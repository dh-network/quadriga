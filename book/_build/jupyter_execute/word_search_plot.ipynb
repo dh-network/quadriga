{
 "cells": [
  {
   "cell_type": "markdown",
   "id": "16dc89c3",
   "metadata": {},
   "source": [
    "# Analysis"
   ]
  },
  {
   "cell_type": "markdown",
   "id": "0a0d0e29",
   "metadata": {},
   "source": [
    "\n",
    "\n",
    "Now we'll take the CONLL data and do some analysis. Like \n",
    "* plot the frequencies of some lemma\n",
    "* look at some lemmas contexts\n",
    "* analyze some lemmas collocations\n"
   ]
  },
  {
   "cell_type": "markdown",
   "id": "bf2a267e",
   "metadata": {},
   "source": [
    "## 0. Imports and data upload"
   ]
  },
  {
   "cell_type": "code",
   "execution_count": 1,
   "id": "14dc18f5",
   "metadata": {},
   "outputs": [],
   "source": [
    "import pandas as pd"
   ]
  },
  {
   "cell_type": "code",
   "execution_count": 2,
   "id": "5e1e86bf",
   "metadata": {},
   "outputs": [],
   "source": [
    "import re"
   ]
  },
  {
   "cell_type": "code",
   "execution_count": 3,
   "id": "5a8dd24b",
   "metadata": {},
   "outputs": [],
   "source": [
    "import os"
   ]
  },
  {
   "cell_type": "code",
   "execution_count": 4,
   "id": "4417616d",
   "metadata": {},
   "outputs": [],
   "source": [
    "conllfiles = (r\"../data/conll\")"
   ]
  },
  {
   "cell_type": "code",
   "execution_count": 5,
   "id": "645fa9f7",
   "metadata": {},
   "outputs": [],
   "source": [
    "corpus_annotations = {}\n",
    "for filename in os.listdir(conllfiles):\n",
    "    if '.conll' in filename:\n",
    "        path = os.path.join(conllfiles, filename)  \n",
    "        data = pd.read_csv(path) \n",
    "        corpus_annotations[filename] = data"
   ]
  },
  {
   "cell_type": "markdown",
   "id": "fde3da39",
   "metadata": {},
   "source": [
    "## 1. Search lemma and plot frequency"
   ]
  },
  {
   "cell_type": "code",
   "execution_count": 6,
   "id": "d824df6a",
   "metadata": {},
   "outputs": [],
   "source": [
    "class WordSearchEngine:\n",
    "    \n",
    "    def __init__(self, corpus_annotated):\n",
    "        self.prepare_index_dataframe_for_search(corpus_annotated)\n",
    "    \n",
    "    def prepare_index_dataframe_for_search(self, corpus_annotated):\n",
    "        for filename, annotated_text in corpus_annotated.items():\n",
    "            year, month, day = self.get_date_fname(filename)\n",
    "            annotated_text['month'] = month\n",
    "        self.full_df = pd.concat(corpus_annotated.values())\n",
    "        print(f'Searching in a corpus of {self.full_df.shape[0]} word occurences')\n",
    "        \n",
    "    def get_date_fname(self, filename):  ## REDO WITH METADATA\n",
    "        date_pattern = re.search(r'(19\\d\\d)(\\d\\d)(\\d\\d)-0-0-0-0', filename)\n",
    "        year = date_pattern.group(1)\n",
    "        month = f'{year}-{date_pattern.group(2)}'\n",
    "        day =  f'{month}-{date_pattern.group(3)}'\n",
    "        return year, month, day    \n",
    "        \n",
    "    def search_and_plot(self):\n",
    "        search_term = input('Insert a word to search: ')\n",
    "        if len(search_term) == 0:\n",
    "            search_term = 'Grippe'\n",
    "        result = self.full_df.query(f'Lemma==\"{search_term}\"')\n",
    "        result.groupby('month').count().Lemma.plot(title=f'frequency of {search_term}');\n",
    "        "
   ]
  },
  {
   "cell_type": "code",
   "execution_count": 7,
   "id": "4792eee9",
   "metadata": {},
   "outputs": [
    {
     "name": "stdout",
     "output_type": "stream",
     "text": [
      "Searching in a corpus of 3008370 word occurences\n"
     ]
    }
   ],
   "source": [
    "engine = WordSearchEngine(corpus_annotations)"
   ]
  },
  {
   "cell_type": "code",
   "execution_count": 8,
   "id": "c35a24d6",
   "metadata": {},
   "outputs": [
    {
     "ename": "StdinNotImplementedError",
     "evalue": "raw_input was called, but this frontend does not support input requests.",
     "output_type": "error",
     "traceback": [
      "\u001b[0;31m---------------------------------------------------------------------------\u001b[0m",
      "\u001b[0;31mStdinNotImplementedError\u001b[0m                  Traceback (most recent call last)",
      "Cell \u001b[0;32mIn[8], line 1\u001b[0m\n\u001b[0;32m----> 1\u001b[0m \u001b[43mengine\u001b[49m\u001b[38;5;241;43m.\u001b[39;49m\u001b[43msearch_and_plot\u001b[49m\u001b[43m(\u001b[49m\u001b[43m)\u001b[49m\n",
      "Cell \u001b[0;32mIn[6], line 21\u001b[0m, in \u001b[0;36mWordSearchEngine.search_and_plot\u001b[0;34m(self)\u001b[0m\n\u001b[1;32m     20\u001b[0m \u001b[38;5;28;01mdef\u001b[39;00m \u001b[38;5;21msearch_and_plot\u001b[39m(\u001b[38;5;28mself\u001b[39m):\n\u001b[0;32m---> 21\u001b[0m     search_term \u001b[38;5;241m=\u001b[39m \u001b[38;5;28;43minput\u001b[39;49m\u001b[43m(\u001b[49m\u001b[38;5;124;43m'\u001b[39;49m\u001b[38;5;124;43mInsert a word to search: \u001b[39;49m\u001b[38;5;124;43m'\u001b[39;49m\u001b[43m)\u001b[49m\n\u001b[1;32m     22\u001b[0m     \u001b[38;5;28;01mif\u001b[39;00m \u001b[38;5;28mlen\u001b[39m(search_term) \u001b[38;5;241m==\u001b[39m \u001b[38;5;241m0\u001b[39m:\n\u001b[1;32m     23\u001b[0m         search_term \u001b[38;5;241m=\u001b[39m \u001b[38;5;124m'\u001b[39m\u001b[38;5;124mGrippe\u001b[39m\u001b[38;5;124m'\u001b[39m\n",
      "File \u001b[0;32m~/.virtualenvs/fall-1/lib/python3.11/site-packages/ipykernel/kernelbase.py:1281\u001b[0m, in \u001b[0;36mKernel.raw_input\u001b[0;34m(self, prompt)\u001b[0m\n\u001b[1;32m   1279\u001b[0m \u001b[38;5;28;01mif\u001b[39;00m \u001b[38;5;129;01mnot\u001b[39;00m \u001b[38;5;28mself\u001b[39m\u001b[38;5;241m.\u001b[39m_allow_stdin:\n\u001b[1;32m   1280\u001b[0m     msg \u001b[38;5;241m=\u001b[39m \u001b[38;5;124m\"\u001b[39m\u001b[38;5;124mraw_input was called, but this frontend does not support input requests.\u001b[39m\u001b[38;5;124m\"\u001b[39m\n\u001b[0;32m-> 1281\u001b[0m     \u001b[38;5;28;01mraise\u001b[39;00m StdinNotImplementedError(msg)\n\u001b[1;32m   1282\u001b[0m \u001b[38;5;28;01mreturn\u001b[39;00m \u001b[38;5;28mself\u001b[39m\u001b[38;5;241m.\u001b[39m_input_request(\n\u001b[1;32m   1283\u001b[0m     \u001b[38;5;28mstr\u001b[39m(prompt),\n\u001b[1;32m   1284\u001b[0m     \u001b[38;5;28mself\u001b[39m\u001b[38;5;241m.\u001b[39m_parent_ident[\u001b[38;5;124m\"\u001b[39m\u001b[38;5;124mshell\u001b[39m\u001b[38;5;124m\"\u001b[39m],\n\u001b[1;32m   1285\u001b[0m     \u001b[38;5;28mself\u001b[39m\u001b[38;5;241m.\u001b[39mget_parent(\u001b[38;5;124m\"\u001b[39m\u001b[38;5;124mshell\u001b[39m\u001b[38;5;124m\"\u001b[39m),\n\u001b[1;32m   1286\u001b[0m     password\u001b[38;5;241m=\u001b[39m\u001b[38;5;28;01mFalse\u001b[39;00m,\n\u001b[1;32m   1287\u001b[0m )\n",
      "\u001b[0;31mStdinNotImplementedError\u001b[0m: raw_input was called, but this frontend does not support input requests."
     ]
    }
   ],
   "source": [
    "engine.search_and_plot()"
   ]
  },
  {
   "cell_type": "markdown",
   "id": "e9a2a08b",
   "metadata": {},
   "source": [
    "## 2. Exploring the contexts\n",
    "\n",
    "Let us look at the contexts in which the words appear\n",
    "\n",
    "\n",
    "### 2.1 KWIC"
   ]
  },
  {
   "cell_type": "code",
   "execution_count": null,
   "id": "b9684f03",
   "metadata": {},
   "outputs": [],
   "source": [
    "class ContextViewer:\n",
    "    \n",
    "    def __init__(self, corpus_annotated):\n",
    "        self.full_df = self.prepare_index_dataframe_for_search(corpus_annotated)\n",
    "        self.full_df = self.full_df.reset_index()\n",
    "        #print(type(self.full_df))\n",
    "        \n",
    "    def prepare_index_dataframe_for_search(self, corpus_annotated):\n",
    "        for filename, annotated_text in corpus_annotated.items():\n",
    "            year, month, day = self.get_date_fname(filename)\n",
    "            annotated_text['month'] = month\n",
    "        return pd.concat(corpus_annotated.values())\n",
    "        #print(f'Searching in a corpus of {self.full_df.shape[0]} word occurences')\n",
    "        \n",
    "    def get_date_fname(self, filename): ## REDO WITH METADATA\n",
    "        date_pattern = re.search(r'(19\\d\\d)(\\d\\d)(\\d\\d)-0-0-0-0', filename)\n",
    "        year = date_pattern.group(1)\n",
    "        month = f'{year}-{date_pattern.group(2)}'\n",
    "        day =  f'{month}-{date_pattern.group(3)}'\n",
    "        return year, month, day    \n",
    "        \n",
    "    def get_context(self):\n",
    "        search_lemma = input('Insert a word to search: ')\n",
    "        if len(search_lemma) == 0:\n",
    "            search_lemma = 'Grippe'\n",
    "        indices = self.full_df.query(f'Lemma==\"{search_lemma}\"').index\n",
    "        #print(indices)\n",
    "        left_contexts = []\n",
    "        this_words = []\n",
    "        right_contexts = []\n",
    "        months = []\n",
    "        for indice in indices:\n",
    "            left = self.full_df.iloc[indice-10:indice-1, ][\"Token\"]\n",
    "            leftс = left[~left.str.contains('\\n')]\n",
    "            right = self.full_df.iloc[indice+1:indice+10, ][\"Token\"]\n",
    "            rightс = right[~right.str.contains('\\n')]\n",
    "            left_contexts.append(' '.join(leftс))\n",
    "            right_contexts.append(' '.join(rightс))\n",
    "            this_words.append(self.full_df.iloc[indice, ][\"Token\"])\n",
    "            months.append(self.full_df.iloc[indice, ][\"month\"])\n",
    "        newdf = pd.DataFrame()\n",
    "        newdf['left_context'] = left_contexts\n",
    "        newdf['word'] = this_words\n",
    "        newdf['right_context'] = right_contexts\n",
    "        newdf['month'] = months\n",
    "        return newdf #.sort_values(by='month')"
   ]
  },
  {
   "cell_type": "code",
   "execution_count": null,
   "id": "6ec93d66",
   "metadata": {},
   "outputs": [],
   "source": [
    "kwic = ContextViewer(corpus_annotations)"
   ]
  },
  {
   "cell_type": "code",
   "execution_count": null,
   "id": "82e2f1c7",
   "metadata": {},
   "outputs": [],
   "source": [
    "kwic.get_context()"
   ]
  },
  {
   "cell_type": "markdown",
   "id": "8a7441e7",
   "metadata": {},
   "source": [
    "### 2.2 Collocations"
   ]
  },
  {
   "cell_type": "code",
   "execution_count": null,
   "id": "60370142",
   "metadata": {},
   "outputs": [],
   "source": []
  }
 ],
 "metadata": {
  "kernelspec": {
   "display_name": "Python 3 (ipykernel)",
   "language": "python",
   "name": "python3"
  },
  "language_info": {
   "codemirror_mode": {
    "name": "ipython",
    "version": 3
   },
   "file_extension": ".py",
   "mimetype": "text/x-python",
   "name": "python",
   "nbconvert_exporter": "python",
   "pygments_lexer": "ipython3",
   "version": "3.11.3"
  }
 },
 "nbformat": 4,
 "nbformat_minor": 5
}