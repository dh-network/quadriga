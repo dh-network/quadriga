{
 "cells": [
  {
   "cell_type": "markdown",
   "id": "16dc89c3",
   "metadata": {},
   "source": [
    "# 🚀 Analyse 1: Diachrone Frequenzdiagramme\n",
    "\n",
    "Dieses **Notebook** kann auf unterschiedlichen Levels erarbeitet werden (siehe Abschnitt [\"Technische Voraussetzungen\"](../markdown/introduction_requirements)): \n",
    "1. Book-Only Mode\n",
    "2. Cloud Mode: Dafür auf 🚀 klicken und z.B. in Colab ausführen.\n",
    "3. Local Mode: Dafür auf Herunterladen ↓ klicken und \".ipynb\" wählen. \n",
    "\n",
    "## Übersicht \n",
    "Im Folgenden werden die annotierten Dateien (CSV-Format) analysiert. Unser Ziel ist es, die Wort-/Lemma-Häufigkeiten einer vordefinierten Wortgruppe für die Monate des Jahres 1918 zu plotten und zu sehen, ob sie mit den Wellen der Grippepandemie korrelieren.\n",
    "Dafür werden folgendene Schritte durchgeführt:\n",
    "1. Einlesen des Korpus, der Metadaten und der Grippe-Wortliste\n",
    "2. Extraktion der Worthäufigkeiten und Plotten der Worthäufigkeiten\n",
    "3. Diskussion der Ergebnisse"
   ]
  },
  {
   "cell_type": "markdown",
   "id": "5335d2b5-e7f0-4fe1-8dbf-2b5ea3336e9f",
   "metadata": {},
   "source": [
    "<details>\n",
    "  <summary><b>Informationen zum Ausführen des Notebooks – Zum Ausklappen klicken ⬇️</b></summary>\n",
    "  \n",
    "<b>Voraussetzungen zur Ausführung des Jupyter Notebooks</b>\n",
    "<ol>\n",
    "<li> Installieren der Bibliotheken </li>\n",
    "<li> Pfad zu den Daten setzen</li>\n",
    "<li> Laden der Daten (z.B. über den Command `wget` (s.u.))</li>\n",
    "</ol>\n",
    "Zum Testen: Ausführen der Zelle \"load libraries\" und der Sektion \"Einlesen der Daten\". </br>\n",
    "Alle Zellen, die mit 🚀 gekennzeichnet sind, werden nur bei der Ausführung des Noteboos in Colab / JupyterHub bzw. lokal ausgeführt. \n",
    "</details>"
   ]
  },
  {
   "cell_type": "code",
   "execution_count": null,
   "id": "eb5f0950-05d1-4fda-9bad-eca989d2d75b",
   "metadata": {
    "editable": true,
    "slideshow": {
     "slide_type": ""
    },
    "tags": [
     "hide-cell"
    ]
   },
   "outputs": [],
   "source": [
    "#  🚀 Install libraries \n",
    "! pip install pandas bokeh "
   ]
  },
  {
   "cell_type": "code",
   "execution_count": 1,
   "id": "d6ec0c33",
   "metadata": {
    "editable": true,
    "slideshow": {
     "slide_type": ""
    },
    "tags": [
     "hide-cell"
    ]
   },
   "outputs": [
    {
     "data": {
      "text/html": [
       "    <style>\n",
       "        .bk-notebook-logo {\n",
       "            display: block;\n",
       "            width: 20px;\n",
       "            height: 20px;\n",
       "            background-image: url(data:image/png;base64,iVBORw0KGgoAAAANSUhEUgAAABQAAAAUCAYAAACNiR0NAAAABHNCSVQICAgIfAhkiAAAAAlwSFlzAAALEgAACxIB0t1+/AAAABx0RVh0U29mdHdhcmUAQWRvYmUgRmlyZXdvcmtzIENTNui8sowAAAOkSURBVDiNjZRtaJVlGMd/1/08zzln5zjP1LWcU9N0NkN8m2CYjpgQYQXqSs0I84OLIC0hkEKoPtiH3gmKoiJDU7QpLgoLjLIQCpEsNJ1vqUOdO7ppbuec5+V+rj4ctwzd8IIbbi6u+8f1539dt3A78eXC7QizUF7gyV1fD1Yqg4JWz84yffhm0qkFqBogB9rM8tZdtwVsPUhWhGcFJngGeWrPzHm5oaMmkfEg1usvLFyc8jLRqDOMru7AyC8saQr7GG7f5fvDeH7Ej8CM66nIF+8yngt6HWaKh7k49Soy9nXurCi1o3qUbS3zWfrYeQDTB/Qj6kX6Ybhw4B+bOYoLKCC9H3Nu/leUTZ1JdRWkkn2ldcCamzrcf47KKXdAJllSlxAOkRgyHsGC/zRday5Qld9DyoM4/q/rUoy/CXh3jzOu3bHUVZeU+DEn8FInkPBFlu3+nW3Nw0mk6vCDiWg8CeJaxEwuHS3+z5RgY+YBR6V1Z1nxSOfoaPa4LASWxxdNp+VWTk7+4vzaou8v8PN+xo+KY2xsw6une2frhw05CTYOmQvsEhjhWjn0bmXPjpE1+kplmmkP3suftwTubK9Vq22qKmrBhpY4jvd5afdRA3wGjFAgcnTK2s4hY0/GPNIb0nErGMCRxWOOX64Z8RAC4oCXdklmEvcL8o0BfkNK4lUg9HTl+oPlQxdNo3Mg4Nv175e/1LDGzZen30MEjRUtmXSfiTVu1kK8W4txyV6BMKlbgk3lMwYCiusNy9fVfvvwMxv8Ynl6vxoByANLTWplvuj/nF9m2+PDtt1eiHPBr1oIfhCChQMBw6Aw0UulqTKZdfVvfG7VcfIqLG9bcldL/+pdWTLxLUy8Qq38heUIjh4XlzZxzQm19lLFlr8vdQ97rjZVOLf8nclzckbcD4wxXMidpX30sFd37Fv/GtwwhzhxGVAprjbg0gCAEeIgwCZyTV2Z1REEW8O4py0wsjeloKoMr6iCY6dP92H6Vw/oTyICIthibxjm/DfN9lVz8IqtqKYLUXfoKVMVQVVJOElGjrnnUt9T9wbgp8AyYKaGlqingHZU/uG2NTZSVqwHQTWkx9hxjkpWDaCg6Ckj5qebgBVbT3V3NNXMSiWSDdGV3hrtzla7J+duwPOToIg42ChPQOQjspnSlp1V+Gjdged7+8UN5CRAV7a5EdFNwCjEaBR27b3W890TE7g24NAP/mMDXRWrGoFPQI9ls/MWO2dWFAar/xcOIImbbpA3zgAAAABJRU5ErkJggg==);\n",
       "        }\n",
       "    </style>\n",
       "    <div>\n",
       "        <a href=\"https://bokeh.org\" target=\"_blank\" class=\"bk-notebook-logo\"></a>\n",
       "        <span id=\"ebccd780-38a5-43a5-9382-c352a59cce84\">Loading BokehJS ...</span>\n",
       "    </div>\n"
      ]
     },
     "metadata": {},
     "output_type": "display_data"
    },
    {
     "data": {
      "application/javascript": [
       "'use strict';\n",
       "(function(root) {\n",
       "  function now() {\n",
       "    return new Date();\n",
       "  }\n",
       "\n",
       "  const force = true;\n",
       "\n",
       "  if (typeof root._bokeh_onload_callbacks === \"undefined\" || force === true) {\n",
       "    root._bokeh_onload_callbacks = [];\n",
       "    root._bokeh_is_loading = undefined;\n",
       "  }\n",
       "\n",
       "const JS_MIME_TYPE = 'application/javascript';\n",
       "  const HTML_MIME_TYPE = 'text/html';\n",
       "  const EXEC_MIME_TYPE = 'application/vnd.bokehjs_exec.v0+json';\n",
       "  const CLASS_NAME = 'output_bokeh rendered_html';\n",
       "\n",
       "  /**\n",
       "   * Render data to the DOM node\n",
       "   */\n",
       "  function render(props, node) {\n",
       "    const script = document.createElement(\"script\");\n",
       "    node.appendChild(script);\n",
       "  }\n",
       "\n",
       "  /**\n",
       "   * Handle when an output is cleared or removed\n",
       "   */\n",
       "  function handleClearOutput(event, handle) {\n",
       "    function drop(id) {\n",
       "      const view = Bokeh.index.get_by_id(id)\n",
       "      if (view != null) {\n",
       "        view.model.document.clear()\n",
       "        Bokeh.index.delete(view)\n",
       "      }\n",
       "    }\n",
       "\n",
       "    const cell = handle.cell;\n",
       "\n",
       "    const id = cell.output_area._bokeh_element_id;\n",
       "    const server_id = cell.output_area._bokeh_server_id;\n",
       "\n",
       "    // Clean up Bokeh references\n",
       "    if (id != null) {\n",
       "      drop(id)\n",
       "    }\n",
       "\n",
       "    if (server_id !== undefined) {\n",
       "      // Clean up Bokeh references\n",
       "      const cmd_clean = \"from bokeh.io.state import curstate; print(curstate().uuid_to_server['\" + server_id + \"'].get_sessions()[0].document.roots[0]._id)\";\n",
       "      cell.notebook.kernel.execute(cmd_clean, {\n",
       "        iopub: {\n",
       "          output: function(msg) {\n",
       "            const id = msg.content.text.trim()\n",
       "            drop(id)\n",
       "          }\n",
       "        }\n",
       "      });\n",
       "      // Destroy server and session\n",
       "      const cmd_destroy = \"import bokeh.io.notebook as ion; ion.destroy_server('\" + server_id + \"')\";\n",
       "      cell.notebook.kernel.execute(cmd_destroy);\n",
       "    }\n",
       "  }\n",
       "\n",
       "  /**\n",
       "   * Handle when a new output is added\n",
       "   */\n",
       "  function handleAddOutput(event, handle) {\n",
       "    const output_area = handle.output_area;\n",
       "    const output = handle.output;\n",
       "\n",
       "    // limit handleAddOutput to display_data with EXEC_MIME_TYPE content only\n",
       "    if ((output.output_type != \"display_data\") || (!Object.prototype.hasOwnProperty.call(output.data, EXEC_MIME_TYPE))) {\n",
       "      return\n",
       "    }\n",
       "\n",
       "    const toinsert = output_area.element.find(\".\" + CLASS_NAME.split(' ')[0]);\n",
       "\n",
       "    if (output.metadata[EXEC_MIME_TYPE][\"id\"] !== undefined) {\n",
       "      toinsert[toinsert.length - 1].firstChild.textContent = output.data[JS_MIME_TYPE];\n",
       "      // store reference to embed id on output_area\n",
       "      output_area._bokeh_element_id = output.metadata[EXEC_MIME_TYPE][\"id\"];\n",
       "    }\n",
       "    if (output.metadata[EXEC_MIME_TYPE][\"server_id\"] !== undefined) {\n",
       "      const bk_div = document.createElement(\"div\");\n",
       "      bk_div.innerHTML = output.data[HTML_MIME_TYPE];\n",
       "      const script_attrs = bk_div.children[0].attributes;\n",
       "      for (let i = 0; i < script_attrs.length; i++) {\n",
       "        toinsert[toinsert.length - 1].firstChild.setAttribute(script_attrs[i].name, script_attrs[i].value);\n",
       "        toinsert[toinsert.length - 1].firstChild.textContent = bk_div.children[0].textContent\n",
       "      }\n",
       "      // store reference to server id on output_area\n",
       "      output_area._bokeh_server_id = output.metadata[EXEC_MIME_TYPE][\"server_id\"];\n",
       "    }\n",
       "  }\n",
       "\n",
       "  function register_renderer(events, OutputArea) {\n",
       "\n",
       "    function append_mime(data, metadata, element) {\n",
       "      // create a DOM node to render to\n",
       "      const toinsert = this.create_output_subarea(\n",
       "        metadata,\n",
       "        CLASS_NAME,\n",
       "        EXEC_MIME_TYPE\n",
       "      );\n",
       "      this.keyboard_manager.register_events(toinsert);\n",
       "      // Render to node\n",
       "      const props = {data: data, metadata: metadata[EXEC_MIME_TYPE]};\n",
       "      render(props, toinsert[toinsert.length - 1]);\n",
       "      element.append(toinsert);\n",
       "      return toinsert\n",
       "    }\n",
       "\n",
       "    /* Handle when an output is cleared or removed */\n",
       "    events.on('clear_output.CodeCell', handleClearOutput);\n",
       "    events.on('delete.Cell', handleClearOutput);\n",
       "\n",
       "    /* Handle when a new output is added */\n",
       "    events.on('output_added.OutputArea', handleAddOutput);\n",
       "\n",
       "    /**\n",
       "     * Register the mime type and append_mime function with output_area\n",
       "     */\n",
       "    OutputArea.prototype.register_mime_type(EXEC_MIME_TYPE, append_mime, {\n",
       "      /* Is output safe? */\n",
       "      safe: true,\n",
       "      /* Index of renderer in `output_area.display_order` */\n",
       "      index: 0\n",
       "    });\n",
       "  }\n",
       "\n",
       "  // register the mime type if in Jupyter Notebook environment and previously unregistered\n",
       "  if (root.Jupyter !== undefined) {\n",
       "    const events = require('base/js/events');\n",
       "    const OutputArea = require('notebook/js/outputarea').OutputArea;\n",
       "\n",
       "    if (OutputArea.prototype.mime_types().indexOf(EXEC_MIME_TYPE) == -1) {\n",
       "      register_renderer(events, OutputArea);\n",
       "    }\n",
       "  }\n",
       "  if (typeof (root._bokeh_timeout) === \"undefined\" || force === true) {\n",
       "    root._bokeh_timeout = Date.now() + 5000;\n",
       "    root._bokeh_failed_load = false;\n",
       "  }\n",
       "\n",
       "  const NB_LOAD_WARNING = {'data': {'text/html':\n",
       "     \"<div style='background-color: #fdd'>\\n\"+\n",
       "     \"<p>\\n\"+\n",
       "     \"BokehJS does not appear to have successfully loaded. If loading BokehJS from CDN, this \\n\"+\n",
       "     \"may be due to a slow or bad network connection. Possible fixes:\\n\"+\n",
       "     \"</p>\\n\"+\n",
       "     \"<ul>\\n\"+\n",
       "     \"<li>re-rerun `output_notebook()` to attempt to load from CDN again, or</li>\\n\"+\n",
       "     \"<li>use INLINE resources instead, as so:</li>\\n\"+\n",
       "     \"</ul>\\n\"+\n",
       "     \"<code>\\n\"+\n",
       "     \"from bokeh.resources import INLINE\\n\"+\n",
       "     \"output_notebook(resources=INLINE)\\n\"+\n",
       "     \"</code>\\n\"+\n",
       "     \"</div>\"}};\n",
       "\n",
       "  function display_loaded(error = null) {\n",
       "    const el = document.getElementById(\"ebccd780-38a5-43a5-9382-c352a59cce84\");\n",
       "    if (el != null) {\n",
       "      const html = (() => {\n",
       "        if (typeof root.Bokeh === \"undefined\") {\n",
       "          if (error == null) {\n",
       "            return \"BokehJS is loading ...\";\n",
       "          } else {\n",
       "            return \"BokehJS failed to load.\";\n",
       "          }\n",
       "        } else {\n",
       "          const prefix = `BokehJS ${root.Bokeh.version}`;\n",
       "          if (error == null) {\n",
       "            return `${prefix} successfully loaded.`;\n",
       "          } else {\n",
       "            return `${prefix} <b>encountered errors</b> while loading and may not function as expected.`;\n",
       "          }\n",
       "        }\n",
       "      })();\n",
       "      el.innerHTML = html;\n",
       "\n",
       "      if (error != null) {\n",
       "        const wrapper = document.createElement(\"div\");\n",
       "        wrapper.style.overflow = \"auto\";\n",
       "        wrapper.style.height = \"5em\";\n",
       "        wrapper.style.resize = \"vertical\";\n",
       "        const content = document.createElement(\"div\");\n",
       "        content.style.fontFamily = \"monospace\";\n",
       "        content.style.whiteSpace = \"pre-wrap\";\n",
       "        content.style.backgroundColor = \"rgb(255, 221, 221)\";\n",
       "        content.textContent = error.stack ?? error.toString();\n",
       "        wrapper.append(content);\n",
       "        el.append(wrapper);\n",
       "      }\n",
       "    } else if (Date.now() < root._bokeh_timeout) {\n",
       "      setTimeout(() => display_loaded(error), 100);\n",
       "    }\n",
       "  }\n",
       "\n",
       "  function run_callbacks() {\n",
       "    try {\n",
       "      root._bokeh_onload_callbacks.forEach(function(callback) {\n",
       "        if (callback != null)\n",
       "          callback();\n",
       "      });\n",
       "    } finally {\n",
       "      delete root._bokeh_onload_callbacks\n",
       "    }\n",
       "    console.debug(\"Bokeh: all callbacks have finished\");\n",
       "  }\n",
       "\n",
       "  function load_libs(css_urls, js_urls, callback) {\n",
       "    if (css_urls == null) css_urls = [];\n",
       "    if (js_urls == null) js_urls = [];\n",
       "\n",
       "    root._bokeh_onload_callbacks.push(callback);\n",
       "    if (root._bokeh_is_loading > 0) {\n",
       "      console.debug(\"Bokeh: BokehJS is being loaded, scheduling callback at\", now());\n",
       "      return null;\n",
       "    }\n",
       "    if (js_urls == null || js_urls.length === 0) {\n",
       "      run_callbacks();\n",
       "      return null;\n",
       "    }\n",
       "    console.debug(\"Bokeh: BokehJS not loaded, scheduling load and callback at\", now());\n",
       "    root._bokeh_is_loading = css_urls.length + js_urls.length;\n",
       "\n",
       "    function on_load() {\n",
       "      root._bokeh_is_loading--;\n",
       "      if (root._bokeh_is_loading === 0) {\n",
       "        console.debug(\"Bokeh: all BokehJS libraries/stylesheets loaded\");\n",
       "        run_callbacks()\n",
       "      }\n",
       "    }\n",
       "\n",
       "    function on_error(url) {\n",
       "      console.error(\"failed to load \" + url);\n",
       "    }\n",
       "\n",
       "    for (let i = 0; i < css_urls.length; i++) {\n",
       "      const url = css_urls[i];\n",
       "      const element = document.createElement(\"link\");\n",
       "      element.onload = on_load;\n",
       "      element.onerror = on_error.bind(null, url);\n",
       "      element.rel = \"stylesheet\";\n",
       "      element.type = \"text/css\";\n",
       "      element.href = url;\n",
       "      console.debug(\"Bokeh: injecting link tag for BokehJS stylesheet: \", url);\n",
       "      document.body.appendChild(element);\n",
       "    }\n",
       "\n",
       "    for (let i = 0; i < js_urls.length; i++) {\n",
       "      const url = js_urls[i];\n",
       "      const element = document.createElement('script');\n",
       "      element.onload = on_load;\n",
       "      element.onerror = on_error.bind(null, url);\n",
       "      element.async = false;\n",
       "      element.src = url;\n",
       "      console.debug(\"Bokeh: injecting script tag for BokehJS library: \", url);\n",
       "      document.head.appendChild(element);\n",
       "    }\n",
       "  };\n",
       "\n",
       "  function inject_raw_css(css) {\n",
       "    const element = document.createElement(\"style\");\n",
       "    element.appendChild(document.createTextNode(css));\n",
       "    document.body.appendChild(element);\n",
       "  }\n",
       "\n",
       "  const js_urls = [\"https://cdn.bokeh.org/bokeh/release/bokeh-3.4.1.min.js\", \"https://cdn.bokeh.org/bokeh/release/bokeh-gl-3.4.1.min.js\", \"https://cdn.bokeh.org/bokeh/release/bokeh-widgets-3.4.1.min.js\", \"https://cdn.bokeh.org/bokeh/release/bokeh-tables-3.4.1.min.js\", \"https://cdn.bokeh.org/bokeh/release/bokeh-mathjax-3.4.1.min.js\"];\n",
       "  const css_urls = [];\n",
       "\n",
       "  const inline_js = [    function(Bokeh) {\n",
       "      Bokeh.set_log_level(\"info\");\n",
       "    },\n",
       "function(Bokeh) {\n",
       "    }\n",
       "  ];\n",
       "\n",
       "  function run_inline_js() {\n",
       "    if (root.Bokeh !== undefined || force === true) {\n",
       "      try {\n",
       "            for (let i = 0; i < inline_js.length; i++) {\n",
       "      inline_js[i].call(root, root.Bokeh);\n",
       "    }\n",
       "\n",
       "      } catch (error) {display_loaded(error);throw error;\n",
       "      }if (force === true) {\n",
       "        display_loaded();\n",
       "      }} else if (Date.now() < root._bokeh_timeout) {\n",
       "      setTimeout(run_inline_js, 100);\n",
       "    } else if (!root._bokeh_failed_load) {\n",
       "      console.log(\"Bokeh: BokehJS failed to load within specified timeout.\");\n",
       "      root._bokeh_failed_load = true;\n",
       "    } else if (force !== true) {\n",
       "      const cell = $(document.getElementById(\"ebccd780-38a5-43a5-9382-c352a59cce84\")).parents('.cell').data().cell;\n",
       "      cell.output_area.append_execute_result(NB_LOAD_WARNING)\n",
       "    }\n",
       "  }\n",
       "\n",
       "  if (root._bokeh_is_loading === 0) {\n",
       "    console.debug(\"Bokeh: BokehJS loaded, going straight to plotting\");\n",
       "    run_inline_js();\n",
       "  } else {\n",
       "    load_libs(css_urls, js_urls, function() {\n",
       "      console.debug(\"Bokeh: BokehJS plotting callback run at\", now());\n",
       "      run_inline_js();\n",
       "    });\n",
       "  }\n",
       "}(window));"
      ],
      "application/vnd.bokehjs_load.v0+json": "'use strict';\n(function(root) {\n  function now() {\n    return new Date();\n  }\n\n  const force = true;\n\n  if (typeof root._bokeh_onload_callbacks === \"undefined\" || force === true) {\n    root._bokeh_onload_callbacks = [];\n    root._bokeh_is_loading = undefined;\n  }\n\n\n  if (typeof (root._bokeh_timeout) === \"undefined\" || force === true) {\n    root._bokeh_timeout = Date.now() + 5000;\n    root._bokeh_failed_load = false;\n  }\n\n  const NB_LOAD_WARNING = {'data': {'text/html':\n     \"<div style='background-color: #fdd'>\\n\"+\n     \"<p>\\n\"+\n     \"BokehJS does not appear to have successfully loaded. If loading BokehJS from CDN, this \\n\"+\n     \"may be due to a slow or bad network connection. Possible fixes:\\n\"+\n     \"</p>\\n\"+\n     \"<ul>\\n\"+\n     \"<li>re-rerun `output_notebook()` to attempt to load from CDN again, or</li>\\n\"+\n     \"<li>use INLINE resources instead, as so:</li>\\n\"+\n     \"</ul>\\n\"+\n     \"<code>\\n\"+\n     \"from bokeh.resources import INLINE\\n\"+\n     \"output_notebook(resources=INLINE)\\n\"+\n     \"</code>\\n\"+\n     \"</div>\"}};\n\n  function display_loaded(error = null) {\n    const el = document.getElementById(\"ebccd780-38a5-43a5-9382-c352a59cce84\");\n    if (el != null) {\n      const html = (() => {\n        if (typeof root.Bokeh === \"undefined\") {\n          if (error == null) {\n            return \"BokehJS is loading ...\";\n          } else {\n            return \"BokehJS failed to load.\";\n          }\n        } else {\n          const prefix = `BokehJS ${root.Bokeh.version}`;\n          if (error == null) {\n            return `${prefix} successfully loaded.`;\n          } else {\n            return `${prefix} <b>encountered errors</b> while loading and may not function as expected.`;\n          }\n        }\n      })();\n      el.innerHTML = html;\n\n      if (error != null) {\n        const wrapper = document.createElement(\"div\");\n        wrapper.style.overflow = \"auto\";\n        wrapper.style.height = \"5em\";\n        wrapper.style.resize = \"vertical\";\n        const content = document.createElement(\"div\");\n        content.style.fontFamily = \"monospace\";\n        content.style.whiteSpace = \"pre-wrap\";\n        content.style.backgroundColor = \"rgb(255, 221, 221)\";\n        content.textContent = error.stack ?? error.toString();\n        wrapper.append(content);\n        el.append(wrapper);\n      }\n    } else if (Date.now() < root._bokeh_timeout) {\n      setTimeout(() => display_loaded(error), 100);\n    }\n  }\n\n  function run_callbacks() {\n    try {\n      root._bokeh_onload_callbacks.forEach(function(callback) {\n        if (callback != null)\n          callback();\n      });\n    } finally {\n      delete root._bokeh_onload_callbacks\n    }\n    console.debug(\"Bokeh: all callbacks have finished\");\n  }\n\n  function load_libs(css_urls, js_urls, callback) {\n    if (css_urls == null) css_urls = [];\n    if (js_urls == null) js_urls = [];\n\n    root._bokeh_onload_callbacks.push(callback);\n    if (root._bokeh_is_loading > 0) {\n      console.debug(\"Bokeh: BokehJS is being loaded, scheduling callback at\", now());\n      return null;\n    }\n    if (js_urls == null || js_urls.length === 0) {\n      run_callbacks();\n      return null;\n    }\n    console.debug(\"Bokeh: BokehJS not loaded, scheduling load and callback at\", now());\n    root._bokeh_is_loading = css_urls.length + js_urls.length;\n\n    function on_load() {\n      root._bokeh_is_loading--;\n      if (root._bokeh_is_loading === 0) {\n        console.debug(\"Bokeh: all BokehJS libraries/stylesheets loaded\");\n        run_callbacks()\n      }\n    }\n\n    function on_error(url) {\n      console.error(\"failed to load \" + url);\n    }\n\n    for (let i = 0; i < css_urls.length; i++) {\n      const url = css_urls[i];\n      const element = document.createElement(\"link\");\n      element.onload = on_load;\n      element.onerror = on_error.bind(null, url);\n      element.rel = \"stylesheet\";\n      element.type = \"text/css\";\n      element.href = url;\n      console.debug(\"Bokeh: injecting link tag for BokehJS stylesheet: \", url);\n      document.body.appendChild(element);\n    }\n\n    for (let i = 0; i < js_urls.length; i++) {\n      const url = js_urls[i];\n      const element = document.createElement('script');\n      element.onload = on_load;\n      element.onerror = on_error.bind(null, url);\n      element.async = false;\n      element.src = url;\n      console.debug(\"Bokeh: injecting script tag for BokehJS library: \", url);\n      document.head.appendChild(element);\n    }\n  };\n\n  function inject_raw_css(css) {\n    const element = document.createElement(\"style\");\n    element.appendChild(document.createTextNode(css));\n    document.body.appendChild(element);\n  }\n\n  const js_urls = [\"https://cdn.bokeh.org/bokeh/release/bokeh-3.4.1.min.js\", \"https://cdn.bokeh.org/bokeh/release/bokeh-gl-3.4.1.min.js\", \"https://cdn.bokeh.org/bokeh/release/bokeh-widgets-3.4.1.min.js\", \"https://cdn.bokeh.org/bokeh/release/bokeh-tables-3.4.1.min.js\", \"https://cdn.bokeh.org/bokeh/release/bokeh-mathjax-3.4.1.min.js\"];\n  const css_urls = [];\n\n  const inline_js = [    function(Bokeh) {\n      Bokeh.set_log_level(\"info\");\n    },\nfunction(Bokeh) {\n    }\n  ];\n\n  function run_inline_js() {\n    if (root.Bokeh !== undefined || force === true) {\n      try {\n            for (let i = 0; i < inline_js.length; i++) {\n      inline_js[i].call(root, root.Bokeh);\n    }\n\n      } catch (error) {display_loaded(error);throw error;\n      }if (force === true) {\n        display_loaded();\n      }} else if (Date.now() < root._bokeh_timeout) {\n      setTimeout(run_inline_js, 100);\n    } else if (!root._bokeh_failed_load) {\n      console.log(\"Bokeh: BokehJS failed to load within specified timeout.\");\n      root._bokeh_failed_load = true;\n    } else if (force !== true) {\n      const cell = $(document.getElementById(\"ebccd780-38a5-43a5-9382-c352a59cce84\")).parents('.cell').data().cell;\n      cell.output_area.append_execute_result(NB_LOAD_WARNING)\n    }\n  }\n\n  if (root._bokeh_is_loading === 0) {\n    console.debug(\"Bokeh: BokehJS loaded, going straight to plotting\");\n    run_inline_js();\n  } else {\n    load_libs(css_urls, js_urls, function() {\n      console.debug(\"Bokeh: BokehJS plotting callback run at\", now());\n      run_inline_js();\n    });\n  }\n}(window));"
     },
     "metadata": {},
     "output_type": "display_data"
    }
   ],
   "source": [
    "import re\n",
    "import requests\n",
    "from pathlib import Path\n",
    "import pandas as pd\n",
    "\n",
    "## for interactivity in jupyter books\n",
    "from bokeh.io import output_notebook, show\n",
    "from bokeh.plotting import figure\n",
    "from bokeh.layouts import column\n",
    "from bokeh.models import ColumnDataSource, CustomJS, TextInput, Div, RadioButtonGroup\n",
    "# Ensure Bokeh output is displayed in the notebook\n",
    "output_notebook()"
   ]
  },
  {
   "cell_type": "markdown",
   "id": "bedc0959-7087-4353-9c17-665013944436",
   "metadata": {
    "editable": true,
    "slideshow": {
     "slide_type": ""
    },
    "tags": []
   },
   "source": [
    "## 1. Einlesen der Daten, Metadaten und der Grippe-Wortliste\n",
    "Um eine/mehrere Dateien mit Python bearbeiten zu können, müssen die Dateien zuerst ausgewählt werden, d.h der [Pfad](https://en.wikipedia.org/wiki/Path_(computing)) zu den Dateien wird gesetzt, und dann eingelesen werden. "
   ]
  },
  {
   "cell_type": "markdown",
   "id": "b7908f6a-c408-4a4a-a769-114c99d01f4a",
   "metadata": {},
   "source": [
    "### 1.1 Einlesen des Korpus (CSV-Dateien)"
   ]
  },
  {
   "cell_type": "markdown",
   "id": "5185fdd6-56a5-442e-a2ad-47367a2dd47e",
   "metadata": {
    "editable": true,
    "slideshow": {
     "slide_type": ""
    },
    "tags": []
   },
   "source": [
    "<details>\n",
    "  <summary><b>Informationen zum Ausführen des Notebooks – Zum Ausklappen klicken ⬇️</b></summary>\n",
    "Zuerst wird der Ordner angelegt, in dem die CSV-Dateien gespeichert werden. Der Einfachheit halber wird die gleich Datenablagestruktur wie in dem <a href=\"https://github.com/dh-network/quadriga/tree/main\">GitHub Repository</a>, in dem die Daten gespeichert sind, vorausgesetzt. </br>\n",
    "Danach werden alle CSV-Dateien im Korpus heruntergeladen und gespeichert. Dafür sind folgende Schritte nötig:\n",
    "<ol>\n",
    "    <li>Es wird eine Liste erstellt, die die URLs zu den einzelnen CSV-Dateien beinhaltet.</li>\n",
    "    <li>Die Liste wird als txt-Datei gespeichert.</li>\n",
    "    <li>Alle Dateien aus der Liste werden heruntergeladen und in dem Ordner <i>../data/csv</i> gespeichert.</li>\n",
    "</ol>\n",
    "Sollten die Dateien schon an einem anderen Ort vorhanden sein, können die Dateipfade zu den Ordnern angepasst werden. </br>\n",
    "</details>"
   ]
  },
  {
   "cell_type": "code",
   "execution_count": null,
   "id": "e5d9d65e-ef79-42fb-aba4-7ca0e97d8aa4",
   "metadata": {
    "editable": true,
    "slideshow": {
     "slide_type": ""
    },
    "tags": [
     "hide-cell",
     "skip-execution"
    ]
   },
   "outputs": [],
   "source": [
    "# 🚀 Create data directory path\n",
    "corpus_dir = Path(\"../data/csv\")\n",
    "if not corpus_dir.exists():\n",
    "    corpus_dir.mkdir()"
   ]
  },
  {
   "cell_type": "code",
   "execution_count": null,
   "id": "422d6fdd-7226-431f-a3ab-9ba54da7a7ed",
   "metadata": {
    "editable": true,
    "slideshow": {
     "slide_type": ""
    },
    "tags": [
     "hide-cell",
     "skip-execution"
    ]
   },
   "outputs": [],
   "source": [
    "# 🚀 Create download list \n",
    "github_api_txt_dir_path = \"https://api.github.com/repos/dh-network/quadriga/contents/data/csv\"\n",
    "txt_dir_info = requests.get(github_api_txt_dir_path).json()\n",
    "url_list = [entry[\"download_url\"] for entry in txt_dir_info]\n",
    "\n",
    "# 🚀 Write download list as txt file\n",
    "url_list_path = Path(\"github_csv_file_urls.txt\")\n",
    "with url_list_path.open('w') as output_txt:\n",
    "    output_txt.write(\"\\n\".join(url_list))"
   ]
  },
  {
   "cell_type": "code",
   "execution_count": null,
   "id": "62b8d4d3-3e95-4e58-a90c-8fb9497b595c",
   "metadata": {
    "editable": true,
    "slideshow": {
     "slide_type": ""
    },
    "tags": [
     "hide-cell",
     "skip-execution"
    ]
   },
   "outputs": [],
   "source": [
    "# ⚠️ Only execute, if you haven't downloaded the files yet!\n",
    "# 🚀 Download all csv files – this step will take a while (ca. 7 minutes)\n",
    "! wget -i github_csv_file_urls.txt -P ../data/csv"
   ]
  },
  {
   "cell_type": "markdown",
   "id": "6ad360f6-7453-4f39-99f7-7794608ff0a7",
   "metadata": {},
   "source": [
    "Setzen des Pfads:"
   ]
  },
  {
   "cell_type": "code",
   "execution_count": 2,
   "id": "4417616d",
   "metadata": {
    "editable": true,
    "slideshow": {
     "slide_type": ""
    },
    "tags": []
   },
   "outputs": [],
   "source": [
    "# set the path to csv files to be processed\n",
    "csv_dir = Path(r\"../data/csv\")"
   ]
  },
  {
   "cell_type": "markdown",
   "id": "22863d76-5258-4b08-b29c-40b302200be3",
   "metadata": {},
   "source": [
    "Einlesen der CSV-Dateien"
   ]
  },
  {
   "cell_type": "code",
   "execution_count": 3,
   "id": "645fa9f7",
   "metadata": {
    "editable": true,
    "slideshow": {
     "slide_type": ""
    },
    "tags": []
   },
   "outputs": [],
   "source": [
    "# Create dictionary to save the corpus data (filenames and tables)\n",
    "corpus_annotations = {}\n",
    "\n",
    "# Iterate over csv files \n",
    "for file in csv_dir.iterdir():\n",
    "    # check if the entry is a file, not a directory\n",
    "    if file.is_file():\n",
    "        # check if the file has the correct suffix csv\n",
    "        if file.suffix == '.csv':\n",
    "            # read the csv table to a data frame\n",
    "            data = pd.read_csv(file) \n",
    "            # save the data frame to the dictionary, key=filename (without suffix), value=dataframe\n",
    "            corpus_annotations[file.with_suffix(\"\").name] = data"
   ]
  },
  {
   "cell_type": "markdown",
   "id": "75504fd3-3dca-4655-b169-51ba5f9b3ea8",
   "metadata": {},
   "source": [
    "Wie viele Dateien wurden eingelesen?"
   ]
  },
  {
   "cell_type": "code",
   "execution_count": 4,
   "id": "5423cc59-a628-4b00-b054-55a60716c444",
   "metadata": {},
   "outputs": [
    {
     "data": {
      "text/plain": [
       "1323"
      ]
     },
     "execution_count": 4,
     "metadata": {},
     "output_type": "execute_result"
    }
   ],
   "source": [
    "len(corpus_annotations)"
   ]
  },
  {
   "cell_type": "markdown",
   "id": "5e848450-4bc0-4073-a7f1-e61e848188fb",
   "metadata": {},
   "source": [
    "Wie sieht der Anfang der ersten Datei aus?"
   ]
  },
  {
   "cell_type": "code",
   "execution_count": 5,
   "id": "13e65bc1-39b2-44d8-b629-c40ef4c668b9",
   "metadata": {},
   "outputs": [
    {
     "data": {
      "text/html": [
       "<div>\n",
       "<style scoped>\n",
       "    .dataframe tbody tr th:only-of-type {\n",
       "        vertical-align: middle;\n",
       "    }\n",
       "\n",
       "    .dataframe tbody tr th {\n",
       "        vertical-align: top;\n",
       "    }\n",
       "\n",
       "    .dataframe thead th {\n",
       "        text-align: right;\n",
       "    }\n",
       "</style>\n",
       "<table border=\"1\" class=\"dataframe\">\n",
       "  <thead>\n",
       "    <tr style=\"text-align: right;\">\n",
       "      <th></th>\n",
       "      <th>Token</th>\n",
       "      <th>Lemma</th>\n",
       "    </tr>\n",
       "  </thead>\n",
       "  <tbody>\n",
       "    <tr>\n",
       "      <th>0</th>\n",
       "      <td>48</td>\n",
       "      <td>48</td>\n",
       "    </tr>\n",
       "    <tr>\n",
       "      <th>1</th>\n",
       "      <td>,</td>\n",
       "      <td>--</td>\n",
       "    </tr>\n",
       "    <tr>\n",
       "      <th>2</th>\n",
       "      <td>warde</td>\n",
       "      <td>warde</td>\n",
       "    </tr>\n",
       "    <tr>\n",
       "      <th>3</th>\n",
       "      <td>]</td>\n",
       "      <td>]</td>\n",
       "    </tr>\n",
       "    <tr>\n",
       "      <th>4</th>\n",
       "      <td>üvne</td>\n",
       "      <td>üvne</td>\n",
       "    </tr>\n",
       "  </tbody>\n",
       "</table>\n",
       "</div>"
      ],
      "text/plain": [
       "   Token  Lemma\n",
       "0     48     48\n",
       "1      ,     --\n",
       "2  warde  warde\n",
       "3      ]      ]\n",
       "4   üvne   üvne"
      ]
     },
     "execution_count": 5,
     "metadata": {},
     "output_type": "execute_result"
    }
   ],
   "source": [
    "corpus_annotations[list(corpus_annotations.keys())[0]].head()"
   ]
  },
  {
   "cell_type": "markdown",
   "id": "7f49ed40-f735-4856-9b9d-0c60222b0778",
   "metadata": {},
   "source": [
    "### 1.2 Einlesen der Metadaten"
   ]
  },
  {
   "cell_type": "markdown",
   "id": "3428c9d8-5b4b-4f25-b286-b8f18dcde33b",
   "metadata": {
    "editable": true,
    "slideshow": {
     "slide_type": ""
    },
    "tags": []
   },
   "source": [
    "<details>\n",
    "  <summary><b>Informationen zum Ausführen des Notebooks – Zum Ausklappen klicken ⬇️</b></summary>\n",
    "Zuerst wird der Ordner angelegt, in dem die Metadaten-Datei gespeichert wird. Wieder wird die gleich Datenablagestruktur wie in dem <a href=\"https://github.com/dh-network/quadriga/tree/main\">GitHub Repository</a> vorausgesetzt. </br>\n",
    "Der Text wird aus GitHub heruntergeladen und in dem Ordner <i>../data/metadata/</i> abgespeichert. </br>\n",
    "Der Pfad kann in der Variable <i>metadata_path</i> angepasst werden. Die einzulesende Datei muss die Endung `.csv` haben. </br>\n",
    "</details>"
   ]
  },
  {
   "cell_type": "code",
   "execution_count": null,
   "id": "56e236b6-ff73-4227-b8cb-180a8737f95f",
   "metadata": {
    "editable": true,
    "slideshow": {
     "slide_type": ""
    },
    "tags": [
     "hide-cell",
     "skip-execution"
    ]
   },
   "outputs": [],
   "source": [
    "# 🚀 Create metadata directory path\n",
    "metadata_dir = Path(\"../data/metadata\")\n",
    "if not metadata_dir.exists():\n",
    "    metadata_dir.mkdir()"
   ]
  },
  {
   "cell_type": "code",
   "execution_count": null,
   "id": "68fa5ade-eee2-48dc-81bb-2b84a2ceac16",
   "metadata": {
    "editable": true,
    "slideshow": {
     "slide_type": ""
    },
    "tags": [
     "hide-cell",
     "skip-execution"
    ]
   },
   "outputs": [],
   "source": [
    "# 🚀 Load the metadata file from GitHub \n",
    "! wget https://raw.githubusercontent.com/dh-network/quadriga/refs/heads/main/data/metadata/QUADRIGA_FS-Text-01_Data01_Corpus-Table.csv -P ../data/metadata"
   ]
  },
  {
   "cell_type": "code",
   "execution_count": 6,
   "id": "edb88bfb",
   "metadata": {},
   "outputs": [],
   "source": [
    "# set path to metadata file\n",
    "metadata_path = '../data/metadata/QUADRIGA_FS-Text-01_Data01_Corpus-Table.csv'\n",
    "\n",
    "# read metadata file to pandas dataframe\n",
    "corpus_metadata = pd.read_csv(metadata_path, sep=';')\n",
    "corpus_metadata['DC.date'] = pd.to_datetime(corpus_metadata['DC.date'])\n",
    "#corpus_metadata = corpus_metadata.set_index('DC.identifier')"
   ]
  },
  {
   "cell_type": "markdown",
   "id": "d414bb4f-4b88-47ce-977a-9f9cf7cdd0ab",
   "metadata": {},
   "source": [
    "Wie sieht die Metadaten-Datei aus? (erste fünf Zeilen)"
   ]
  },
  {
   "cell_type": "code",
   "execution_count": 7,
   "id": "a02b09b8",
   "metadata": {},
   "outputs": [
    {
     "data": {
      "text/html": [
       "<div>\n",
       "<style scoped>\n",
       "    .dataframe tbody tr th:only-of-type {\n",
       "        vertical-align: middle;\n",
       "    }\n",
       "\n",
       "    .dataframe tbody tr th {\n",
       "        vertical-align: top;\n",
       "    }\n",
       "\n",
       "    .dataframe thead th {\n",
       "        text-align: right;\n",
       "    }\n",
       "</style>\n",
       "<table border=\"1\" class=\"dataframe\">\n",
       "  <thead>\n",
       "    <tr style=\"text-align: right;\">\n",
       "      <th></th>\n",
       "      <th>DC.identifier</th>\n",
       "      <th>DC.publisher</th>\n",
       "      <th>DC.date</th>\n",
       "      <th>DC.source</th>\n",
       "    </tr>\n",
       "  </thead>\n",
       "  <tbody>\n",
       "    <tr>\n",
       "      <th>0</th>\n",
       "      <td>SNP2719372X-19180101-0-0-0-0</td>\n",
       "      <td>Berliner Morgenpost</td>\n",
       "      <td>1918-01-01</td>\n",
       "      <td>https://content.staatsbibliothek-berlin.de/zef...</td>\n",
       "    </tr>\n",
       "    <tr>\n",
       "      <th>1</th>\n",
       "      <td>SNP2719372X-19180102-0-0-0-0</td>\n",
       "      <td>Berliner Morgenpost</td>\n",
       "      <td>1918-01-02</td>\n",
       "      <td>https://content.staatsbibliothek-berlin.de/zef...</td>\n",
       "    </tr>\n",
       "    <tr>\n",
       "      <th>2</th>\n",
       "      <td>SNP2719372X-19180103-0-0-0-0</td>\n",
       "      <td>Berliner Morgenpost</td>\n",
       "      <td>1918-01-03</td>\n",
       "      <td>https://content.staatsbibliothek-berlin.de/zef...</td>\n",
       "    </tr>\n",
       "    <tr>\n",
       "      <th>3</th>\n",
       "      <td>SNP2719372X-19180104-0-0-0-0</td>\n",
       "      <td>Berliner Morgenpost</td>\n",
       "      <td>1918-01-04</td>\n",
       "      <td>https://content.staatsbibliothek-berlin.de/zef...</td>\n",
       "    </tr>\n",
       "    <tr>\n",
       "      <th>4</th>\n",
       "      <td>SNP2719372X-19180105-0-0-0-0</td>\n",
       "      <td>Berliner Morgenpost</td>\n",
       "      <td>1918-01-05</td>\n",
       "      <td>https://content.staatsbibliothek-berlin.de/zef...</td>\n",
       "    </tr>\n",
       "  </tbody>\n",
       "</table>\n",
       "</div>"
      ],
      "text/plain": [
       "                  DC.identifier         DC.publisher    DC.date  \\\n",
       "0  SNP2719372X-19180101-0-0-0-0  Berliner Morgenpost 1918-01-01   \n",
       "1  SNP2719372X-19180102-0-0-0-0  Berliner Morgenpost 1918-01-02   \n",
       "2  SNP2719372X-19180103-0-0-0-0  Berliner Morgenpost 1918-01-03   \n",
       "3  SNP2719372X-19180104-0-0-0-0  Berliner Morgenpost 1918-01-04   \n",
       "4  SNP2719372X-19180105-0-0-0-0  Berliner Morgenpost 1918-01-05   \n",
       "\n",
       "                                           DC.source  \n",
       "0  https://content.staatsbibliothek-berlin.de/zef...  \n",
       "1  https://content.staatsbibliothek-berlin.de/zef...  \n",
       "2  https://content.staatsbibliothek-berlin.de/zef...  \n",
       "3  https://content.staatsbibliothek-berlin.de/zef...  \n",
       "4  https://content.staatsbibliothek-berlin.de/zef...  "
      ]
     },
     "execution_count": 7,
     "metadata": {},
     "output_type": "execute_result"
    }
   ],
   "source": [
    "corpus_metadata.head()"
   ]
  },
  {
   "cell_type": "markdown",
   "id": "19b5bf4b-bd61-4745-82f1-f8b019309c8b",
   "metadata": {},
   "source": [
    "### 1.3 Einlesen der Wortliste "
   ]
  },
  {
   "cell_type": "markdown",
   "id": "d2d5b391-788a-4d98-9b27-4ab20750a659",
   "metadata": {
    "editable": true,
    "slideshow": {
     "slide_type": ""
    },
    "tags": []
   },
   "source": [
    "<details>\n",
    "  <summary><b>Informationen zum Ausführen des Notebooks – Zum Ausklappen klicken ⬇️</b></summary>\n",
    "Parallel zur Metadaten-Datei wird ein Ordner für die Wortlisten-Datein angelegt, die Datei wird aus GitHub geladen und in dem erstellten Ordner abgelegt.\n",
    "</details>"
   ]
  },
  {
   "cell_type": "code",
   "execution_count": null,
   "id": "18e0876d-44b2-464d-a210-33b68c71c380",
   "metadata": {
    "editable": true,
    "slideshow": {
     "slide_type": ""
    },
    "tags": [
     "hide-cell",
     "skip-execution"
    ]
   },
   "outputs": [],
   "source": [
    "# 🚀 Create word list directory path\n",
    "wordlist_dir = Path(\"../data/wordlist\")\n",
    "if not wordlist_dir.exists():\n",
    "    wordlist_dir.mkdir()"
   ]
  },
  {
   "cell_type": "code",
   "execution_count": null,
   "id": "98b96b4e-7ea5-4277-89fc-6e6f76bd7de1",
   "metadata": {
    "editable": true,
    "slideshow": {
     "slide_type": ""
    },
    "tags": [
     "hide-cell",
     "skip-execution"
    ]
   },
   "outputs": [],
   "source": [
    "# 🚀 Load the wordlist file from GitHub \n",
    "! wget https://raw.githubusercontent.com/dh-network/quadriga/refs/heads/main/data/wordlist/grippe.txt -P ../data/wordlist"
   ]
  },
  {
   "cell_type": "code",
   "execution_count": 9,
   "id": "9deee84f-89e9-431d-9ce0-b4319e6bd12d",
   "metadata": {},
   "outputs": [],
   "source": [
    "path_to_wordlist = Path(\"../data/wordlist/grippe.txt\")\n",
    "word_list = path_to_wordlist.read_text().split(\"\\n\")"
   ]
  },
  {
   "cell_type": "markdown",
   "id": "93ad341f-b7af-4821-9b0f-a58c0d4b0d66",
   "metadata": {},
   "source": [
    "Wie sieht die Wortliste aus?"
   ]
  },
  {
   "cell_type": "code",
   "execution_count": 10,
   "id": "32fe88c8-c191-4dbd-a229-bb22aaea7391",
   "metadata": {},
   "outputs": [
    {
     "data": {
      "text/plain": [
       "['Influenza',\n",
       " 'Grippe',\n",
       " 'Grippeepidemie',\n",
       " 'Grippewelle',\n",
       " 'Grippekranke',\n",
       " 'Grippepandemie',\n",
       " 'Lungenentzündung',\n",
       " 'Krankheitswelle',\n",
       " 'Seuchenzug',\n",
       " 'Krankheitsausbruch',\n",
       " 'Fieberanfall',\n",
       " 'Schüttelfrost',\n",
       " 'Atemnot',\n",
       " 'Körpererschöpfung',\n",
       " 'Genesungszeit',\n",
       " 'Ansteckungsgefahr',\n",
       " 'Seuchenschutz',\n",
       " 'Desinfektionsmittel',\n",
       " 'Schutzmaske',\n",
       " 'Krankenstation',\n",
       " 'Isolationsstation',\n",
       " 'Sanitätsdienst',\n",
       " 'Krankheitsverlauf',\n",
       " 'Todesopfer',\n",
       " 'Krankheitssymptom',\n",
       " 'Erkrankungsfall',\n",
       " 'Lungeninfektion',\n",
       " '']"
      ]
     },
     "execution_count": 10,
     "metadata": {},
     "output_type": "execute_result"
    }
   ],
   "source": [
    "word_list"
   ]
  },
  {
   "cell_type": "markdown",
   "id": "fde3da39",
   "metadata": {},
   "source": [
    "## 2. Suche nach einem Lemma und plotte die Häufigkeit\n",
    "\n",
    "1. Datum zu den Annotationen hinzufügen\n",
    "2. Annotationen in einer Datenstruktur (einem DataFrame) speichern\n",
    "3. Lemmata suchen und nach Zeitabschnitt gruppieren\n",
    "4. Häufigkeiten plotten"
   ]
  },
  {
   "cell_type": "markdown",
   "id": "f8c635c3-1a5d-4fbe-9227-8880fd37e7ea",
   "metadata": {},
   "source": [
    "### 2.1 Datum zu den Annotationen hinzufügen"
   ]
  },
  {
   "cell_type": "code",
   "execution_count": 11,
   "id": "df801ddb-a702-4f8f-aa77-10d0a310dddf",
   "metadata": {},
   "outputs": [],
   "source": [
    "def add_date_to_corpus_annotations(corpus_metadata, corpus_annotated):\n",
    "    for identifier, df in corpus_annotated.items():\n",
    "        if identifier in corpus_metadata[\"DC.identifier\"].values:\n",
    "            df[\"date\"] = corpus_metadata[corpus_metadata[\"DC.identifier\"] == identifier][\"DC.date\"].item()"
   ]
  },
  {
   "cell_type": "code",
   "execution_count": 12,
   "id": "28eb1604-59f5-4a23-bf4c-51439867ff8f",
   "metadata": {},
   "outputs": [],
   "source": [
    "add_date_to_corpus_annotations(corpus_metadata, corpus_annotations)"
   ]
  },
  {
   "cell_type": "markdown",
   "id": "5608d910-a9e9-4227-8bba-9bc487535468",
   "metadata": {},
   "source": [
    "### 2.2 Annotationen in einer Datenstruktur (einem DataFrame) speichern"
   ]
  },
  {
   "cell_type": "code",
   "execution_count": 19,
   "id": "ca540f02-c1cb-4648-aa10-a6d3a98b4989",
   "metadata": {},
   "outputs": [],
   "source": [
    "corpus_annotations_merged = pd.concat(corpus_annotations.values())"
   ]
  },
  {
   "cell_type": "code",
   "execution_count": 14,
   "id": "0581c5d3-20b7-412a-97e6-9fd30f99dcae",
   "metadata": {},
   "outputs": [],
   "source": [
    "def search_and_plot(merged_df, search_terms=word_list, absolute_freqs=True):\n",
    "    result = merged_df.query(f'Lemma.isin({search_terms})')\n",
    "        \n",
    "    freqs_month = result.groupby(pd.PeriodIndex(result['date'], freq=\"M\")).count().Lemma\n",
    "    freqs_week = result.groupby(pd.PeriodIndex(result['date'], freq=\"W-MON\")).count().Lemma\n",
    "    freqs_days = result.groupby(pd.PeriodIndex(result['date'], freq=\"D\")).count().Lemma\n",
    "    \n",
    "    plot_with_js(freqs_month, freqs_week, freqs_days, search_terms)"
   ]
  },
  {
   "cell_type": "code",
   "execution_count": 15,
   "id": "a5754de9-c0f5-450d-aa6d-1d6832330e26",
   "metadata": {},
   "outputs": [],
   "source": [
    "def plot_with_js(freqs_month, freqs_week, freqs_day, words):\n",
    "    # Prepare data sources\n",
    "    daily_source = ColumnDataSource(data=dict(x=freqs_day.index, y=list(freqs_day)))\n",
    "    weekly_source = ColumnDataSource(data=dict(x=freqs_week.index, y=list(freqs_week)))\n",
    "    monthly_source = ColumnDataSource(data=dict(x=freqs_month.index, y=list(freqs_month)))\n",
    "    starter_source = ColumnDataSource(data=dict(x=freqs_month.index, y=list(freqs_month)))\n",
    "\n",
    "    # Create a plot\n",
    "    p = figure(title=f\"Frequency of words {words}\", x_axis_type=\"datetime\", x_axis_label='Time', \n",
    "               y_axis_label='Frequency', width=700, height=400)\n",
    "    line = p.line('x', 'y', source=starter_source, line_width=2, color='blue')\n",
    "\n",
    "    # Callback to update the data based on selected mode\n",
    "    callback = CustomJS(args=dict(line=line, daily_source=daily_source, \n",
    "                                  weekly_source=weekly_source, monthly_source=monthly_source),\n",
    "                        code=\"\"\"\n",
    "        const mode = cb_obj.active;\n",
    "        if (mode === 2) {\n",
    "            line.data_source.data = daily_source.data;\n",
    "        } else if (mode === 1) {\n",
    "            line.data_source.data = weekly_source.data;\n",
    "        } else if (mode === 0) {\n",
    "            line.data_source.data = monthly_source.data;\n",
    "        }\n",
    "        line.data_source.change.emit();\n",
    "    \"\"\")\n",
    "\n",
    "    # RadioButtonGroup to select mode\n",
    "    radio_button_group = RadioButtonGroup(labels=[\"Monthly\", \"Weekly\", \"Daily\"], active=0)\n",
    "    radio_button_group.js_on_change('active', callback)\n",
    "\n",
    "    # Layout the RadioButtonGroup and plot\n",
    "    layout = column(radio_button_group, p)\n",
    "    show(layout)"
   ]
  },
  {
   "cell_type": "code",
   "execution_count": 16,
   "id": "8d9e7c72-4eb5-4c26-b578-60b484a4319e",
   "metadata": {},
   "outputs": [
    {
     "data": {
      "text/html": [
       "\n",
       "  <div id=\"f5f2a811-49ba-482c-86c5-efff907b9478\" data-root-id=\"p1069\" style=\"display: contents;\"></div>\n"
      ]
     },
     "metadata": {},
     "output_type": "display_data"
    },
    {
     "data": {
      "application/javascript": [
       "(function(root) {\n",
       "  function embed_document(root) {\n",
       "  const docs_json = {\"35f52bfd-092d-4376-8634-b90cc8f0f83b\":{\"version\":\"3.4.1\",\"title\":\"Bokeh Application\",\"roots\":[{\"type\":\"object\",\"name\":\"Column\",\"id\":\"p1069\",\"attributes\":{\"children\":[{\"type\":\"object\",\"name\":\"RadioButtonGroup\",\"id\":\"p1068\",\"attributes\":{\"js_property_callbacks\":{\"type\":\"map\",\"entries\":[[\"change:active\",[{\"type\":\"object\",\"name\":\"CustomJS\",\"id\":\"p1067\",\"attributes\":{\"args\":{\"type\":\"map\",\"entries\":[[\"line\",{\"type\":\"object\",\"name\":\"GlyphRenderer\",\"id\":\"p1064\",\"attributes\":{\"data_source\":{\"type\":\"object\",\"name\":\"ColumnDataSource\",\"id\":\"p1010\",\"attributes\":{\"selected\":{\"type\":\"object\",\"name\":\"Selection\",\"id\":\"p1011\",\"attributes\":{\"indices\":[],\"line_indices\":[]}},\"selection_policy\":{\"type\":\"object\",\"name\":\"UnionRenderers\",\"id\":\"p1012\"},\"data\":{\"type\":\"map\",\"entries\":[[\"x\",{\"type\":\"ndarray\",\"array\":{\"type\":\"bytes\",\"data\":\"AADA+S7hd8IAAICnNNd3wgAAgIYxznfCAABANDfEd8IAAMBHj7p3wgAAgPWUsHfCAAAACe2md8IAAMC28px3wgAAgGT4knfCAAAAeFCJd8IAAMAlVn93wgAAQDmudXfCAAAA57Nrd8IAAMCUuWF3wgAAwHO2WHfCAACAIbxOd8IAAAA1FEV3wgAAwOIZO3fCAABA9nExd8IAAACkdyd3wgAAwFF9HXfCAABAZdUTd8IAAAAT2wl3wgAAgCYzAHfC\"},\"shape\":[24],\"dtype\":\"float64\",\"order\":\"little\"}],[\"y\",[6,5,3,6,7,18,68,7,30,249,41,24,12,8,7,9,3,6,2,6,2,3,9,6]]]}}},\"view\":{\"type\":\"object\",\"name\":\"CDSView\",\"id\":\"p1065\",\"attributes\":{\"filter\":{\"type\":\"object\",\"name\":\"AllIndices\",\"id\":\"p1066\"}}},\"glyph\":{\"type\":\"object\",\"name\":\"Line\",\"id\":\"p1061\",\"attributes\":{\"x\":{\"type\":\"field\",\"field\":\"x\"},\"y\":{\"type\":\"field\",\"field\":\"y\"},\"line_color\":\"blue\",\"line_width\":2}},\"nonselection_glyph\":{\"type\":\"object\",\"name\":\"Line\",\"id\":\"p1062\",\"attributes\":{\"x\":{\"type\":\"field\",\"field\":\"x\"},\"y\":{\"type\":\"field\",\"field\":\"y\"},\"line_color\":\"blue\",\"line_alpha\":0.1,\"line_width\":2}},\"muted_glyph\":{\"type\":\"object\",\"name\":\"Line\",\"id\":\"p1063\",\"attributes\":{\"x\":{\"type\":\"field\",\"field\":\"x\"},\"y\":{\"type\":\"field\",\"field\":\"y\"},\"line_color\":\"blue\",\"line_alpha\":0.2,\"line_width\":2}}}}],[\"daily_source\",{\"type\":\"object\",\"name\":\"ColumnDataSource\",\"id\":\"p1001\",\"attributes\":{\"selected\":{\"type\":\"object\",\"name\":\"Selection\",\"id\":\"p1002\",\"attributes\":{\"indices\":[],\"line_indices\":[]}},\"selection_policy\":{\"type\":\"object\",\"name\":\"UnionRenderers\",\"id\":\"p1003\"},\"data\":{\"type\":\"map\",\"entries\":[[\"x\",{\"type\":\"ndarray\",\"array\":{\"type\":\"bytes\",\"data\":\"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\"},\"shape\":[188],\"dtype\":\"float64\",\"order\":\"little\"}],[\"y\",[1,1,1,1,1,1,1,1,1,1,1,1,1,1,1,1,1,1,1,1,1,2,2,1,1,3,1,2,2,2,3,2,3,1,5,11,4,3,1,2,1,6,3,4,7,2,1,2,1,5,3,2,3,1,3,1,1,2,1,1,2,1,3,2,2,1,3,2,3,4,3,2,1,3,1,5,3,4,22,9,4,12,12,22,10,20,18,5,15,13,5,17,18,5,3,11,4,7,6,2,8,1,6,1,2,2,2,1,2,2,1,2,1,1,1,1,4,1,3,1,1,1,2,2,2,1,1,1,3,1,1,1,1,1,2,1,1,2,1,1,1,2,1,1,2,1,1,2,1,1,1,1,1,1,1,1,3,1,1,1,1,1,1,3,1,1,1,2,1,1,1,1,1,1,1,1,1,1,1,1,1,3,2,1,1,1,1,2]]]}}}],[\"weekly_source\",{\"type\":\"object\",\"name\":\"ColumnDataSource\",\"id\":\"p1004\",\"attributes\":{\"selected\":{\"type\":\"object\",\"name\":\"Selection\",\"id\":\"p1005\",\"attributes\":{\"indices\":[],\"line_indices\":[]}},\"selection_policy\":{\"type\":\"object\",\"name\":\"UnionRenderers\",\"id\":\"p1006\"},\"data\":{\"type\":\"map\",\"entries\":[[\"x\",{\"type\":\"ndarray\",\"array\":{\"type\":\"bytes\",\"data\":\"AADA+S7hd8IAAIAx7t53wgAAQGmt3HfCAAAAoWzad8IAAIAQ69V3wgAAQEiq03fCAAAAgGnRd8IAAMC3KM93wgAAgO/nzHfCAABAJ6fKd8IAAABfZsh3wgAAQAakwXfCAAAAPmO/d8IAAMB1Ir13wgAAgK3hunfCAABA5aC4d8IAAAAdYLZ3wgAAwFQftHfCAACAjN6xd8IAAEDEna93wgAAwDMcq3fCAACAa9uod8IAAECjmqZ3wgAAANtZpHfCAADAEhmid8IAAIBK2J93wgAAQIKXnXfCAAAAulabd8IAAACZU5J3wgAAwNASkHfCAACACNKNd8IAAEBAkYt3wgAAAHhQiXfCAADArw+Hd8IAAIDnzoR3wgAAQB+OgnfCAAAAV02Ad8IAAMCODH53wgAAgMbLe3fCAABA/op5d8IAAAA2Snd3wgAAwG0JdXfCAACApchyd8IAAEDdh3B3wgAAABVHbnfCAADATAZsd8IAAICExWl3wgAAQLyEZ3fCAAAA9ENld8IAAMArA2N3wgAAgGPCYHfCAAAA00Bcd8IAAMAKAFp3wgAAQHp+VXfCAADA6fxQd8IAAIAhvE53wgAAQFl7THfCAADAyPlHd8IAAEA4eEN3wgAAAHA3QXfCAADAp/Y+d8IAAEAXdTp3wgAAAE80OHfCAACAvrIzd8IAAAAuMS93wgAAwGXwLHfCAABA1W4od8IAAAANLiZ3wgAAwETtI3fCAADAI+oad8IAAIBbqRh3wgAAgDqmD3fCAABAcmUNd8IAAMDh4wh3wgAAgBmjBnfCAABAUWIEd8IAAACJIQJ3wgAAwMDg/3bCAACA+J/9dsIAAEAwX/t2wgAAAGge+XbC\"},\"shape\":[81],\"dtype\":\"float64\",\"order\":\"little\"}],[\"y\",[3,1,1,1,1,2,1,1,1,1,1,2,2,2,1,2,2,1,4,1,4,11,27,23,13,4,4,3,4,6,6,14,5,47,99,76,39,11,5,5,3,11,5,2,6,2,1,4,2,3,2,3,3,2,5,3,2,4,1,1,1,2,3,1,1,1,2,3,1,1,1,1,2,2,1,4,2,2,1,1,2]]]}}}],[\"monthly_source\",{\"type\":\"object\",\"name\":\"ColumnDataSource\",\"id\":\"p1007\",\"attributes\":{\"selected\":{\"type\":\"object\",\"name\":\"Selection\",\"id\":\"p1008\",\"attributes\":{\"indices\":[],\"line_indices\":[]}},\"selection_policy\":{\"type\":\"object\",\"name\":\"UnionRenderers\",\"id\":\"p1009\"},\"data\":{\"type\":\"map\",\"entries\":[[\"x\",{\"type\":\"ndarray\",\"array\":{\"type\":\"bytes\",\"data\":\"AADA+S7hd8IAAICnNNd3wgAAgIYxznfCAABANDfEd8IAAMBHj7p3wgAAgPWUsHfCAAAACe2md8IAAMC28px3wgAAgGT4knfCAAAAeFCJd8IAAMAlVn93wgAAQDmudXfCAAAA57Nrd8IAAMCUuWF3wgAAwHO2WHfCAACAIbxOd8IAAAA1FEV3wgAAwOIZO3fCAABA9nExd8IAAACkdyd3wgAAwFF9HXfCAABAZdUTd8IAAAAT2wl3wgAAgCYzAHfC\"},\"shape\":[24],\"dtype\":\"float64\",\"order\":\"little\"}],[\"y\",[6,5,3,6,7,18,68,7,30,249,41,24,12,8,7,9,3,6,2,6,2,3,9,6]]]}}}]]},\"code\":\"\\n        const mode = cb_obj.active;\\n        if (mode === 2) {\\n            line.data_source.data = daily_source.data;\\n        } else if (mode === 1) {\\n            line.data_source.data = weekly_source.data;\\n        } else if (mode === 0) {\\n            line.data_source.data = monthly_source.data;\\n        }\\n        line.data_source.change.emit();\\n    \"}}]]]},\"labels\":[\"Monthly\",\"Weekly\",\"Daily\"],\"active\":0}},{\"type\":\"object\",\"name\":\"Figure\",\"id\":\"p1013\",\"attributes\":{\"width\":700,\"height\":400,\"x_range\":{\"type\":\"object\",\"name\":\"DataRange1d\",\"id\":\"p1014\"},\"y_range\":{\"type\":\"object\",\"name\":\"DataRange1d\",\"id\":\"p1015\"},\"x_scale\":{\"type\":\"object\",\"name\":\"LinearScale\",\"id\":\"p1023\"},\"y_scale\":{\"type\":\"object\",\"name\":\"LinearScale\",\"id\":\"p1024\"},\"title\":{\"type\":\"object\",\"name\":\"Title\",\"id\":\"p1016\",\"attributes\":{\"text\":\"Frequency of words ['Influenza', 'Grippe', 'Grippeepidemie', 'Grippewelle', 'Grippekranke', 'Grippepandemie', 'Lungenentz\\u00fcndung', 'Krankheitswelle', 'Seuchenzug', 'Krankheitsausbruch', 'Fieberanfall', 'Sch\\u00fcttelfrost', 'Atemnot', 'K\\u00f6rperersch\\u00f6pfung', 'Genesungszeit', 'Ansteckungsgefahr', 'Seuchenschutz', 'Desinfektionsmittel', 'Schutzmaske', 'Krankenstation', 'Isolationsstation', 'Sanit\\u00e4tsdienst', 'Krankheitsverlauf', 'Todesopfer', 'Krankheitssymptom', 'Erkrankungsfall', 'Lungeninfektion', '']\"}},\"renderers\":[{\"id\":\"p1064\"}],\"toolbar\":{\"type\":\"object\",\"name\":\"Toolbar\",\"id\":\"p1022\",\"attributes\":{\"tools\":[{\"type\":\"object\",\"name\":\"PanTool\",\"id\":\"p1047\"},{\"type\":\"object\",\"name\":\"WheelZoomTool\",\"id\":\"p1048\",\"attributes\":{\"renderers\":\"auto\"}},{\"type\":\"object\",\"name\":\"BoxZoomTool\",\"id\":\"p1049\",\"attributes\":{\"overlay\":{\"type\":\"object\",\"name\":\"BoxAnnotation\",\"id\":\"p1050\",\"attributes\":{\"syncable\":false,\"level\":\"overlay\",\"visible\":false,\"left\":{\"type\":\"number\",\"value\":\"nan\"},\"right\":{\"type\":\"number\",\"value\":\"nan\"},\"top\":{\"type\":\"number\",\"value\":\"nan\"},\"bottom\":{\"type\":\"number\",\"value\":\"nan\"},\"left_units\":\"canvas\",\"right_units\":\"canvas\",\"top_units\":\"canvas\",\"bottom_units\":\"canvas\",\"line_color\":\"black\",\"line_alpha\":1.0,\"line_width\":2,\"line_dash\":[4,4],\"fill_color\":\"lightgrey\",\"fill_alpha\":0.5}}}},{\"type\":\"object\",\"name\":\"SaveTool\",\"id\":\"p1055\"},{\"type\":\"object\",\"name\":\"ResetTool\",\"id\":\"p1056\"},{\"type\":\"object\",\"name\":\"HelpTool\",\"id\":\"p1057\"}]}},\"left\":[{\"type\":\"object\",\"name\":\"LinearAxis\",\"id\":\"p1042\",\"attributes\":{\"ticker\":{\"type\":\"object\",\"name\":\"BasicTicker\",\"id\":\"p1043\",\"attributes\":{\"mantissas\":[1,2,5]}},\"formatter\":{\"type\":\"object\",\"name\":\"BasicTickFormatter\",\"id\":\"p1044\"},\"axis_label\":\"Frequency\",\"major_label_policy\":{\"type\":\"object\",\"name\":\"AllLabels\",\"id\":\"p1045\"}}}],\"below\":[{\"type\":\"object\",\"name\":\"DatetimeAxis\",\"id\":\"p1025\",\"attributes\":{\"ticker\":{\"type\":\"object\",\"name\":\"DatetimeTicker\",\"id\":\"p1026\",\"attributes\":{\"num_minor_ticks\":5,\"tickers\":[{\"type\":\"object\",\"name\":\"AdaptiveTicker\",\"id\":\"p1027\",\"attributes\":{\"num_minor_ticks\":0,\"mantissas\":[1,2,5],\"max_interval\":500.0}},{\"type\":\"object\",\"name\":\"AdaptiveTicker\",\"id\":\"p1028\",\"attributes\":{\"num_minor_ticks\":0,\"base\":60,\"mantissas\":[1,2,5,10,15,20,30],\"min_interval\":1000.0,\"max_interval\":1800000.0}},{\"type\":\"object\",\"name\":\"AdaptiveTicker\",\"id\":\"p1029\",\"attributes\":{\"num_minor_ticks\":0,\"base\":24,\"mantissas\":[1,2,4,6,8,12],\"min_interval\":3600000.0,\"max_interval\":43200000.0}},{\"type\":\"object\",\"name\":\"DaysTicker\",\"id\":\"p1030\",\"attributes\":{\"days\":[1,2,3,4,5,6,7,8,9,10,11,12,13,14,15,16,17,18,19,20,21,22,23,24,25,26,27,28,29,30,31]}},{\"type\":\"object\",\"name\":\"DaysTicker\",\"id\":\"p1031\",\"attributes\":{\"days\":[1,4,7,10,13,16,19,22,25,28]}},{\"type\":\"object\",\"name\":\"DaysTicker\",\"id\":\"p1032\",\"attributes\":{\"days\":[1,8,15,22]}},{\"type\":\"object\",\"name\":\"DaysTicker\",\"id\":\"p1033\",\"attributes\":{\"days\":[1,15]}},{\"type\":\"object\",\"name\":\"MonthsTicker\",\"id\":\"p1034\",\"attributes\":{\"months\":[0,1,2,3,4,5,6,7,8,9,10,11]}},{\"type\":\"object\",\"name\":\"MonthsTicker\",\"id\":\"p1035\",\"attributes\":{\"months\":[0,2,4,6,8,10]}},{\"type\":\"object\",\"name\":\"MonthsTicker\",\"id\":\"p1036\",\"attributes\":{\"months\":[0,4,8]}},{\"type\":\"object\",\"name\":\"MonthsTicker\",\"id\":\"p1037\",\"attributes\":{\"months\":[0,6]}},{\"type\":\"object\",\"name\":\"YearsTicker\",\"id\":\"p1038\"}]}},\"formatter\":{\"type\":\"object\",\"name\":\"DatetimeTickFormatter\",\"id\":\"p1039\"},\"axis_label\":\"Time\",\"major_label_policy\":{\"type\":\"object\",\"name\":\"AllLabels\",\"id\":\"p1040\"}}}],\"center\":[{\"type\":\"object\",\"name\":\"Grid\",\"id\":\"p1041\",\"attributes\":{\"axis\":{\"id\":\"p1025\"}}},{\"type\":\"object\",\"name\":\"Grid\",\"id\":\"p1046\",\"attributes\":{\"dimension\":1,\"axis\":{\"id\":\"p1042\"}}}]}}]}}]}};\n",
       "  const render_items = [{\"docid\":\"35f52bfd-092d-4376-8634-b90cc8f0f83b\",\"roots\":{\"p1069\":\"f5f2a811-49ba-482c-86c5-efff907b9478\"},\"root_ids\":[\"p1069\"]}];\n",
       "  void root.Bokeh.embed.embed_items_notebook(docs_json, render_items);\n",
       "  }\n",
       "  if (root.Bokeh !== undefined) {\n",
       "    embed_document(root);\n",
       "  } else {\n",
       "    let attempts = 0;\n",
       "    const timer = setInterval(function(root) {\n",
       "      if (root.Bokeh !== undefined) {\n",
       "        clearInterval(timer);\n",
       "        embed_document(root);\n",
       "      } else {\n",
       "        attempts++;\n",
       "        if (attempts > 100) {\n",
       "          clearInterval(timer);\n",
       "          console.log(\"Bokeh: ERROR: Unable to run BokehJS code because BokehJS library is missing\");\n",
       "        }\n",
       "      }\n",
       "    }, 10, root)\n",
       "  }\n",
       "})(window);"
      ],
      "application/vnd.bokehjs_exec.v0+json": ""
     },
     "metadata": {
      "application/vnd.bokehjs_exec.v0+json": {
       "id": "p1069"
      }
     },
     "output_type": "display_data"
    }
   ],
   "source": [
    "search_and_plot(corpus_annotations_merged)"
   ]
  },
  {
   "cell_type": "markdown",
   "id": "da05d1b1-fe97-4908-b358-0eeec8d13db4",
   "metadata": {},
   "source": [
    "### Worteingabe für die Suche (für Cloud Mode und Local Mode) "
   ]
  },
  {
   "cell_type": "code",
   "execution_count": 20,
   "id": "e9cb3388",
   "metadata": {
    "editable": true,
    "slideshow": {
     "slide_type": ""
    },
    "tags": [
     "hide-cell",
     "skip-execution"
    ]
   },
   "outputs": [
    {
     "data": {
      "text/html": [
       "\n",
       "  <div id=\"b330ca59-d16c-4bb6-b57e-117a79542239\" data-root-id=\"p1152\" style=\"display: contents;\"></div>\n"
      ]
     },
     "metadata": {},
     "output_type": "display_data"
    },
    {
     "data": {
      "application/javascript": [
       "(function(root) {\n",
       "  function embed_document(root) {\n",
       "  const docs_json = {\"59693aa0-e2c8-461c-96d8-e61e95fb0e96\":{\"version\":\"3.4.1\",\"title\":\"Bokeh Application\",\"roots\":[{\"type\":\"object\",\"name\":\"Column\",\"id\":\"p1152\",\"attributes\":{\"children\":[{\"type\":\"object\",\"name\":\"TextInput\",\"id\":\"p1150\",\"attributes\":{\"js_property_callbacks\":{\"type\":\"map\",\"entries\":[[\"change:value\",[{\"type\":\"object\",\"name\":\"CustomJS\",\"id\":\"p1151\",\"attributes\":{\"args\":{\"type\":\"map\",\"entries\":[[\"text_input\",{\"id\":\"p1150\"}]]},\"code\":\"\\n    var word = text_input.value.trim();\\n    console.log('Input value:', word);\\n    function sendToPython(){\\n    var kernel = IPython.notebook.kernel;\\n    kernel.execute(\\\"search_terms_str = '\\\" + word + \\\"'\\\");\\n    }\\n    sendToPython();\\n\"}}]]]},\"title\":\"Geben Sie die zu suchenden W\\u00f6rter ein und trennen Sie sie durch Kommas, wenn es mehrere sind:\",\"value\":\"Grippe, Krankheit\"}}]}}]}};\n",
       "  const render_items = [{\"docid\":\"59693aa0-e2c8-461c-96d8-e61e95fb0e96\",\"roots\":{\"p1152\":\"b330ca59-d16c-4bb6-b57e-117a79542239\"},\"root_ids\":[\"p1152\"]}];\n",
       "  void root.Bokeh.embed.embed_items_notebook(docs_json, render_items);\n",
       "  }\n",
       "  if (root.Bokeh !== undefined) {\n",
       "    embed_document(root);\n",
       "  } else {\n",
       "    let attempts = 0;\n",
       "    const timer = setInterval(function(root) {\n",
       "      if (root.Bokeh !== undefined) {\n",
       "        clearInterval(timer);\n",
       "        embed_document(root);\n",
       "      } else {\n",
       "        attempts++;\n",
       "        if (attempts > 100) {\n",
       "          clearInterval(timer);\n",
       "          console.log(\"Bokeh: ERROR: Unable to run BokehJS code because BokehJS library is missing\");\n",
       "        }\n",
       "      }\n",
       "    }, 10, root)\n",
       "  }\n",
       "})(window);"
      ],
      "application/vnd.bokehjs_exec.v0+json": ""
     },
     "metadata": {
      "application/vnd.bokehjs_exec.v0+json": {
       "id": "p1152"
      }
     },
     "output_type": "display_data"
    }
   ],
   "source": [
    "search_terms = TextInput(value='Grippe, Krankheit', \n",
    "                                 title=\"Geben Sie die zu suchenden Wörter ein und trennen Sie sie durch Kommas, wenn es mehrere sind:\") #input('Insert words to search, split by comma if more than one: ')\n",
    "\n",
    "search_terms_str = search_terms.value.strip()\n",
    "\n",
    "# JavaScript callback to update the in Jupyter Book\n",
    "rewrite_var_after_input = CustomJS(args=dict(text_input=search_terms), code=\"\"\"\n",
    "    var word = text_input.value.trim();\n",
    "    console.log('Input value:', word);\n",
    "    function sendToPython(){\n",
    "    var kernel = IPython.notebook.kernel;\n",
    "    kernel.execute(\"search_terms_str = '\" + word + \"'\");\n",
    "    }\n",
    "    sendToPython();\n",
    "\"\"\")\n",
    "\n",
    "search_terms.js_on_change('value', rewrite_var_after_input)\n",
    "\n",
    "# Layout and display\n",
    "layout = column(search_terms)\n",
    "\n",
    "show(layout)"
   ]
  },
  {
   "cell_type": "code",
   "execution_count": 24,
   "id": "51b9eea3-4b4e-4003-be48-8ee0c31d7d2b",
   "metadata": {
    "editable": true,
    "slideshow": {
     "slide_type": ""
    },
    "tags": [
     "hide-cell",
     "skip-execution"
    ]
   },
   "outputs": [
    {
     "data": {
      "text/html": [
       "\n",
       "  <div id=\"fbbecbf4-aefe-4097-a7cc-52a84556f821\" data-root-id=\"p1440\" style=\"display: contents;\"></div>\n"
      ]
     },
     "metadata": {},
     "output_type": "display_data"
    },
    {
     "data": {
      "application/javascript": [
       "(function(root) {\n",
       "  function embed_document(root) {\n",
       "  const docs_json = {\"770bf405-483c-4845-a761-f6921bce6ed4\":{\"version\":\"3.4.1\",\"title\":\"Bokeh Application\",\"roots\":[{\"type\":\"object\",\"name\":\"Column\",\"id\":\"p1440\",\"attributes\":{\"children\":[{\"type\":\"object\",\"name\":\"RadioButtonGroup\",\"id\":\"p1439\",\"attributes\":{\"js_property_callbacks\":{\"type\":\"map\",\"entries\":[[\"change:active\",[{\"type\":\"object\",\"name\":\"CustomJS\",\"id\":\"p1438\",\"attributes\":{\"args\":{\"type\":\"map\",\"entries\":[[\"line\",{\"type\":\"object\",\"name\":\"GlyphRenderer\",\"id\":\"p1435\",\"attributes\":{\"data_source\":{\"type\":\"object\",\"name\":\"ColumnDataSource\",\"id\":\"p1381\",\"attributes\":{\"selected\":{\"type\":\"object\",\"name\":\"Selection\",\"id\":\"p1382\",\"attributes\":{\"indices\":[],\"line_indices\":[]}},\"selection_policy\":{\"type\":\"object\",\"name\":\"UnionRenderers\",\"id\":\"p1383\"},\"data\":{\"type\":\"map\",\"entries\":[[\"x\",{\"type\":\"ndarray\",\"array\":{\"type\":\"bytes\",\"data\":\"AADA+S7hd8IAAICnNNd3wgAAgIYxznfCAABANDfEd8IAAMBHj7p3wgAAgPWUsHfCAAAACe2md8IAAMC28px3wgAAgGT4knfCAAAAeFCJd8IAAMAlVn93wgAAQDmudXfCAAAA57Nrd8IAAMCUuWF3wgAAwHO2WHfCAACAIbxOd8IAAAA1FEV3wgAAwOIZO3fCAABA9nExd8IAAACkdyd3wgAAwFF9HXfCAABAZdUTd8IAAAAT2wl3wgAAgCYzAHfC\"},\"shape\":[24],\"dtype\":\"float64\",\"order\":\"little\"}],[\"y\",[31,29,27,36,37,50,139,28,46,298,62,40,25,39,26,33,37,29,40,37,45,35,46,24]]]}}},\"view\":{\"type\":\"object\",\"name\":\"CDSView\",\"id\":\"p1436\",\"attributes\":{\"filter\":{\"type\":\"object\",\"name\":\"AllIndices\",\"id\":\"p1437\"}}},\"glyph\":{\"type\":\"object\",\"name\":\"Line\",\"id\":\"p1432\",\"attributes\":{\"x\":{\"type\":\"field\",\"field\":\"x\"},\"y\":{\"type\":\"field\",\"field\":\"y\"},\"line_color\":\"blue\",\"line_width\":2}},\"nonselection_glyph\":{\"type\":\"object\",\"name\":\"Line\",\"id\":\"p1433\",\"attributes\":{\"x\":{\"type\":\"field\",\"field\":\"x\"},\"y\":{\"type\":\"field\",\"field\":\"y\"},\"line_color\":\"blue\",\"line_alpha\":0.1,\"line_width\":2}},\"muted_glyph\":{\"type\":\"object\",\"name\":\"Line\",\"id\":\"p1434\",\"attributes\":{\"x\":{\"type\":\"field\",\"field\":\"x\"},\"y\":{\"type\":\"field\",\"field\":\"y\"},\"line_color\":\"blue\",\"line_alpha\":0.2,\"line_width\":2}}}}],[\"daily_source\",{\"type\":\"object\",\"name\":\"ColumnDataSource\",\"id\":\"p1372\",\"attributes\":{\"selected\":{\"type\":\"object\",\"name\":\"Selection\",\"id\":\"p1373\",\"attributes\":{\"indices\":[],\"line_indices\":[]}},\"selection_policy\":{\"type\":\"object\",\"name\":\"UnionRenderers\",\"id\":\"p1374\"},\"data\":{\"type\":\"map\",\"entries\":[[\"x\",{\"type\":\"ndarray\",\"array\":{\"type\":\"bytes\",\"data\":\"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\"},\"shape\":[441],\"dtype\":\"float64\",\"order\":\"little\"}],[\"y\",[3,2,1,3,2,1,3,1,2,6,2,1,2,2,1,1,1,1,6,4,1,2,4,2,1,1,1,1,2,2,2,2,1,2,1,1,1,7,1,1,1,1,1,1,1,1,1,4,1,5,1,1,1,1,1,2,1,2,2,4,2,3,2,1,1,2,1,3,1,1,1,2,2,2,1,2,4,1,3,4,1,5,1,6,5,1,1,2,4,1,4,3,2,2,2,1,1,1,3,2,9,5,16,12,7,9,9,2,2,6,4,8,5,4,14,2,5,2,6,5,4,1,6,1,2,1,1,4,4,1,1,3,1,4,1,1,1,3,1,3,2,1,2,1,1,5,1,1,1,1,1,3,1,1,1,7,2,8,4,2,4,3,3,2,2,1,6,6,5,23,14,4,14,13,23,10,21,30,5,17,14,8,17,21,8,3,9,4,8,5,2,9,2,7,2,1,2,2,2,8,1,3,2,6,4,2,1,1,1,1,1,3,3,4,2,1,2,1,2,2,2,3,1,1,1,1,1,1,2,4,1,2,1,1,1,2,1,1,2,2,1,1,2,1,2,2,2,1,1,1,2,1,2,2,1,2,3,1,2,3,3,2,1,8,3,3,2,2,3,3,1,3,1,2,1,2,3,1,4,1,1,1,2,2,2,1,3,1,1,1,1,4,2,5,1,2,2,1,4,1,5,4,2,2,4,4,1,1,1,2,1,1,3,1,1,2,3,3,1,2,1,1,2,3,3,1,2,1,1,2,1,2,1,1,2,1,4,1,1,1,3,2,1,1,1,1,1,1,2,3,3,5,2,3,4,1,1,1,4,1,1,1,1,1,1,1,2,3,1,1,2,3,2,3,1,2,2,1,2,1,1,1,4,4,1,3,3,2,6,1,2,2,2,2,1,1,1,1,1,2,7,1,2,1,2,1,1,1,2,4,2,1,2,2,3,1,6,2,2,1,3,1,1,1,2,2,1,13,1,2,1,3,1,2,1,2,2,1,1,1,6]]]}}}],[\"weekly_source\",{\"type\":\"object\",\"name\":\"ColumnDataSource\",\"id\":\"p1375\",\"attributes\":{\"selected\":{\"type\":\"object\",\"name\":\"Selection\",\"id\":\"p1376\",\"attributes\":{\"indices\":[],\"line_indices\":[]}},\"selection_policy\":{\"type\":\"object\",\"name\":\"UnionRenderers\",\"id\":\"p1377\"},\"data\":{\"type\":\"map\",\"entries\":[[\"x\",{\"type\":\"ndarray\",\"array\":{\"type\":\"bytes\",\"data\":\"AADA+S7hd8IAAIAx7t53wgAAQGmt3HfCAAAAoWzad8IAAMDYK9h3wgAAgBDr1XfCAABASKrTd8IAAACAadF3wgAAwLcoz3fCAACA7+fMd8IAAEAnp8p3wgAAAF9myHfCAADAliXGd8IAAIDO5MN3wgAAQAakwXfCAAAAPmO/d8IAAMB1Ir13wgAAgK3hunfCAABA5aC4d8IAAAAdYLZ3wgAAwFQftHfCAACAjN6xd8IAAEDEna93wgAAAPxcrXfCAADAMxyrd8IAAIBr26h3wgAAQKOapnfCAAAA21mkd8IAAMASGaJ3wgAAgErYn3fCAABAgpedd8IAAAC6Vpt3wgAAwPEVmXfCAACAKdWWd8IAAEBhlJR3wgAAAJlTknfCAADA0BKQd8IAAIAI0o13wgAAQECRi3fCAAAAeFCJd8IAAMCvD4d3wgAAgOfOhHfCAABAH46Cd8IAAABXTYB3wgAAwI4MfnfCAACAxst7d8IAAED+inl3wgAAADZKd3fCAADAbQl1d8IAAIClyHJ3wgAAQN2HcHfCAAAAFUdud8IAAMBMBmx3wgAAgITFaXfCAABAvIRnd8IAAAD0Q2V3wgAAwCsDY3fCAACAY8Jgd8IAAECbgV53wgAAANNAXHfCAADACgBad8IAAIBCv1d3wgAAQHp+VXfCAAAAsj1Td8IAAMDp/FB3wgAAgCG8TnfCAABAWXtMd8IAAACROkp3wgAAwMj5R3fCAACAALlFd8IAAEA4eEN3wgAAAHA3QXfCAADAp/Y+d8IAAIDftTx3wgAAQBd1OnfCAAAATzQ4d8IAAMCG8zV3wgAAgL6yM3fCAABA9nExd8IAAAAuMS93wgAAwGXwLHfCAACAna8qd8IAAEDVbih3wgAAAA0uJnfCAADARO0jd8IAAIB8rCF3wgAAQLRrH3fCAAAA7Codd8IAAMAj6hp3wgAAgFupGHfCAABAk2gWd8IAAADLJxR3wgAAwALnEXfCAACAOqYPd8IAAEByZQ13wgAAAKokC3fCAADA4eMId8IAAIAZowZ3wgAAQFFiBHfCAAAAiSECd8IAAMDA4P92wgAAgPif/XbCAABAMF/7dsIAAMCf3fZ2wg==\"},\"shape\":[104],\"dtype\":\"float64\",\"order\":\"little\"}],[\"y\",[6,6,12,5,4,8,7,9,7,6,11,3,3,11,5,7,12,8,4,5,14,13,13,8,7,21,57,41,25,9,11,9,3,4,6,10,8,9,16,15,58,116,88,39,12,13,15,6,14,9,7,8,6,2,7,4,7,7,8,11,12,5,12,1,8,7,12,3,11,3,8,17,6,4,6,9,6,7,10,10,9,5,11,12,8,3,9,9,10,9,15,9,3,11,7,10,14,10,6,13,4,9,5,6]]]}}}],[\"monthly_source\",{\"type\":\"object\",\"name\":\"ColumnDataSource\",\"id\":\"p1378\",\"attributes\":{\"selected\":{\"type\":\"object\",\"name\":\"Selection\",\"id\":\"p1379\",\"attributes\":{\"indices\":[],\"line_indices\":[]}},\"selection_policy\":{\"type\":\"object\",\"name\":\"UnionRenderers\",\"id\":\"p1380\"},\"data\":{\"type\":\"map\",\"entries\":[[\"x\",{\"type\":\"ndarray\",\"array\":{\"type\":\"bytes\",\"data\":\"AADA+S7hd8IAAICnNNd3wgAAgIYxznfCAABANDfEd8IAAMBHj7p3wgAAgPWUsHfCAAAACe2md8IAAMC28px3wgAAgGT4knfCAAAAeFCJd8IAAMAlVn93wgAAQDmudXfCAAAA57Nrd8IAAMCUuWF3wgAAwHO2WHfCAACAIbxOd8IAAAA1FEV3wgAAwOIZO3fCAABA9nExd8IAAACkdyd3wgAAwFF9HXfCAABAZdUTd8IAAAAT2wl3wgAAgCYzAHfC\"},\"shape\":[24],\"dtype\":\"float64\",\"order\":\"little\"}],[\"y\",[31,29,27,36,37,50,139,28,46,298,62,40,25,39,26,33,37,29,40,37,45,35,46,24]]]}}}]]},\"code\":\"\\n        const mode = cb_obj.active;\\n        if (mode === 2) {\\n            line.data_source.data = daily_source.data;\\n        } else if (mode === 1) {\\n            line.data_source.data = weekly_source.data;\\n        } else if (mode === 0) {\\n            line.data_source.data = monthly_source.data;\\n        }\\n        line.data_source.change.emit();\\n    \"}}]]]},\"labels\":[\"Monthly\",\"Weekly\",\"Daily\"],\"active\":0}},{\"type\":\"object\",\"name\":\"Figure\",\"id\":\"p1384\",\"attributes\":{\"width\":700,\"height\":400,\"x_range\":{\"type\":\"object\",\"name\":\"DataRange1d\",\"id\":\"p1385\"},\"y_range\":{\"type\":\"object\",\"name\":\"DataRange1d\",\"id\":\"p1386\"},\"x_scale\":{\"type\":\"object\",\"name\":\"LinearScale\",\"id\":\"p1394\"},\"y_scale\":{\"type\":\"object\",\"name\":\"LinearScale\",\"id\":\"p1395\"},\"title\":{\"type\":\"object\",\"name\":\"Title\",\"id\":\"p1387\",\"attributes\":{\"text\":\"Frequency of words ['Grippe', 'Krankheit']\"}},\"renderers\":[{\"id\":\"p1435\"}],\"toolbar\":{\"type\":\"object\",\"name\":\"Toolbar\",\"id\":\"p1393\",\"attributes\":{\"tools\":[{\"type\":\"object\",\"name\":\"PanTool\",\"id\":\"p1418\"},{\"type\":\"object\",\"name\":\"WheelZoomTool\",\"id\":\"p1419\",\"attributes\":{\"renderers\":\"auto\"}},{\"type\":\"object\",\"name\":\"BoxZoomTool\",\"id\":\"p1420\",\"attributes\":{\"overlay\":{\"type\":\"object\",\"name\":\"BoxAnnotation\",\"id\":\"p1421\",\"attributes\":{\"syncable\":false,\"level\":\"overlay\",\"visible\":false,\"left\":{\"type\":\"number\",\"value\":\"nan\"},\"right\":{\"type\":\"number\",\"value\":\"nan\"},\"top\":{\"type\":\"number\",\"value\":\"nan\"},\"bottom\":{\"type\":\"number\",\"value\":\"nan\"},\"left_units\":\"canvas\",\"right_units\":\"canvas\",\"top_units\":\"canvas\",\"bottom_units\":\"canvas\",\"line_color\":\"black\",\"line_alpha\":1.0,\"line_width\":2,\"line_dash\":[4,4],\"fill_color\":\"lightgrey\",\"fill_alpha\":0.5}}}},{\"type\":\"object\",\"name\":\"SaveTool\",\"id\":\"p1426\"},{\"type\":\"object\",\"name\":\"ResetTool\",\"id\":\"p1427\"},{\"type\":\"object\",\"name\":\"HelpTool\",\"id\":\"p1428\"}]}},\"left\":[{\"type\":\"object\",\"name\":\"LinearAxis\",\"id\":\"p1413\",\"attributes\":{\"ticker\":{\"type\":\"object\",\"name\":\"BasicTicker\",\"id\":\"p1414\",\"attributes\":{\"mantissas\":[1,2,5]}},\"formatter\":{\"type\":\"object\",\"name\":\"BasicTickFormatter\",\"id\":\"p1415\"},\"axis_label\":\"Frequency\",\"major_label_policy\":{\"type\":\"object\",\"name\":\"AllLabels\",\"id\":\"p1416\"}}}],\"below\":[{\"type\":\"object\",\"name\":\"DatetimeAxis\",\"id\":\"p1396\",\"attributes\":{\"ticker\":{\"type\":\"object\",\"name\":\"DatetimeTicker\",\"id\":\"p1397\",\"attributes\":{\"num_minor_ticks\":5,\"tickers\":[{\"type\":\"object\",\"name\":\"AdaptiveTicker\",\"id\":\"p1398\",\"attributes\":{\"num_minor_ticks\":0,\"mantissas\":[1,2,5],\"max_interval\":500.0}},{\"type\":\"object\",\"name\":\"AdaptiveTicker\",\"id\":\"p1399\",\"attributes\":{\"num_minor_ticks\":0,\"base\":60,\"mantissas\":[1,2,5,10,15,20,30],\"min_interval\":1000.0,\"max_interval\":1800000.0}},{\"type\":\"object\",\"name\":\"AdaptiveTicker\",\"id\":\"p1400\",\"attributes\":{\"num_minor_ticks\":0,\"base\":24,\"mantissas\":[1,2,4,6,8,12],\"min_interval\":3600000.0,\"max_interval\":43200000.0}},{\"type\":\"object\",\"name\":\"DaysTicker\",\"id\":\"p1401\",\"attributes\":{\"days\":[1,2,3,4,5,6,7,8,9,10,11,12,13,14,15,16,17,18,19,20,21,22,23,24,25,26,27,28,29,30,31]}},{\"type\":\"object\",\"name\":\"DaysTicker\",\"id\":\"p1402\",\"attributes\":{\"days\":[1,4,7,10,13,16,19,22,25,28]}},{\"type\":\"object\",\"name\":\"DaysTicker\",\"id\":\"p1403\",\"attributes\":{\"days\":[1,8,15,22]}},{\"type\":\"object\",\"name\":\"DaysTicker\",\"id\":\"p1404\",\"attributes\":{\"days\":[1,15]}},{\"type\":\"object\",\"name\":\"MonthsTicker\",\"id\":\"p1405\",\"attributes\":{\"months\":[0,1,2,3,4,5,6,7,8,9,10,11]}},{\"type\":\"object\",\"name\":\"MonthsTicker\",\"id\":\"p1406\",\"attributes\":{\"months\":[0,2,4,6,8,10]}},{\"type\":\"object\",\"name\":\"MonthsTicker\",\"id\":\"p1407\",\"attributes\":{\"months\":[0,4,8]}},{\"type\":\"object\",\"name\":\"MonthsTicker\",\"id\":\"p1408\",\"attributes\":{\"months\":[0,6]}},{\"type\":\"object\",\"name\":\"YearsTicker\",\"id\":\"p1409\"}]}},\"formatter\":{\"type\":\"object\",\"name\":\"DatetimeTickFormatter\",\"id\":\"p1410\"},\"axis_label\":\"Time\",\"major_label_policy\":{\"type\":\"object\",\"name\":\"AllLabels\",\"id\":\"p1411\"}}}],\"center\":[{\"type\":\"object\",\"name\":\"Grid\",\"id\":\"p1412\",\"attributes\":{\"axis\":{\"id\":\"p1396\"}}},{\"type\":\"object\",\"name\":\"Grid\",\"id\":\"p1417\",\"attributes\":{\"dimension\":1,\"axis\":{\"id\":\"p1413\"}}}]}}]}}]}};\n",
       "  const render_items = [{\"docid\":\"770bf405-483c-4845-a761-f6921bce6ed4\",\"roots\":{\"p1440\":\"fbbecbf4-aefe-4097-a7cc-52a84556f821\"},\"root_ids\":[\"p1440\"]}];\n",
       "  void root.Bokeh.embed.embed_items_notebook(docs_json, render_items);\n",
       "  }\n",
       "  if (root.Bokeh !== undefined) {\n",
       "    embed_document(root);\n",
       "  } else {\n",
       "    let attempts = 0;\n",
       "    const timer = setInterval(function(root) {\n",
       "      if (root.Bokeh !== undefined) {\n",
       "        clearInterval(timer);\n",
       "        embed_document(root);\n",
       "      } else {\n",
       "        attempts++;\n",
       "        if (attempts > 100) {\n",
       "          clearInterval(timer);\n",
       "          console.log(\"Bokeh: ERROR: Unable to run BokehJS code because BokehJS library is missing\");\n",
       "        }\n",
       "      }\n",
       "    }, 10, root)\n",
       "  }\n",
       "})(window);"
      ],
      "application/vnd.bokehjs_exec.v0+json": ""
     },
     "metadata": {
      "application/vnd.bokehjs_exec.v0+json": {
       "id": "p1440"
      }
     },
     "output_type": "display_data"
    }
   ],
   "source": [
    "search_terms =  [x.strip() for x in search_terms_str.split(',')]\n",
    "search_and_plot(corpus_annotations_merged, search_terms=search_terms)"
   ]
  },
  {
   "cell_type": "markdown",
   "id": "4ffeb48a",
   "metadata": {},
   "source": [
    "## 3. Diskussion des Zwischenergebnisses\n",
    "\n",
    "Ist dieses Ergebnis sinnvoll und spiegelt es tatsächlich etwas wider? Eine Möglichkeit, dies zu überprüfen, besteht darin, unser Diagramm mit den tatsächlichen Daten über die Intensität der Pandemie zu vergleichen.\n",
    "\n",
    "In (Taubenberger, J. K., & Morens, D. M. (2006). 1918 Influenza: the Mother of All Pandemics. Emerging Infectious Diseases, 12(1), 15-22. https://doi.org/10.3201/eid1201.050979) wird festgestellt, dass 'The first pandemic influenza wave appeared in the spring of 1918, followed in rapid succession by much more fatal second and third waves in the fall and winter of 1918–1919, respectively'('Die erste Pandemie-Influenza-Welle im Frühjahr 1918 auftrat, gefolgt von weitaus tödlicheren zweiten und dritten Wellen im Herbst und Winter 1918–1919'). Sie ergänzen diese Aussage auch mit einem Diagramm aus einem früheren Papier (Jordan E. (1927). Epidemic influenza: a survey. Chicago: American Medical Association):\n",
    "\n",
    "<!-- ## 3. Discussion of the intermediate result \n",
    "\n",
    "Is this result meaningful and does it actually reflect something? One way to check that is to compare our plot with the actual data about the intensity of the pandemic. \n",
    "\n",
    "In (Taubenberger, J. K., & Morens, D. M. (2006). 1918 Influenza: the Mother of All Pandemics. Emerging Infectious Diseases, 12(1), 15-22. https://doi.org/10.3201/eid1201.050979) it is stated that 'The first pandemic influenza wave appeared in the spring of 1918, followed in rapid succession by much more fatal second and third waves in the fall and winter of 1918–1919, respectively'. They also supplement this statement with a plot from an earlier paper (Jordan  E. (1927). Epidemic influenza: a survey. Chicago: American Medical Association): --> "
   ]
  },
  {
   "cell_type": "markdown",
   "id": "551cb63d",
   "metadata": {},
   "source": [
    "<img src=\"https://wwwnc.cdc.gov/eid/images/05-0979-F1.gif\">"
   ]
  },
  {
   "cell_type": "markdown",
   "id": "889ed9af",
   "metadata": {},
   "source": [
    "Unsere zwei Wellen von Erwähnungen des Wortes 'Grippe' scheinen den Sterblichkeitszahlen zu entsprechen, was darauf hindeuten könnte, dass die Methode, obwohl sehr einfach, funktioniert und dass historische Ereignisse manchmal in Wortfrequenzzählungen reflektiert werden können... Die dritte Welle scheint nicht reproduziert zu werden, was eine weitere Untersuchung erfordert. Eine Hypothese könnte sein, dass, ähnlich wie bei der COVID-Pandemie, neue Krankheitswellen irgendwann aufhören, die Aufmerksamkeit der Öffentlichkeit zu erregen. Beispielsweise waren die COVID-Wellen im Jahr 2021 stärker als die im Jahr 2020, aber die Berichterstattung in den Nachrichten nahm bereits ab. Dies könnte besonders für Anfang 1919 zutreffen, als nach dem Verlust des Krieges und der Revolution von 1918 Grippetodesfälle kein Nachrichtenthema mehr waren.\n",
    "<!-- Our two waves of mentions of the word 'Grippe' seem to correspond to the mortality figures, which could indicate that the method, albeit very simple, works and that historical events can sometimes be reflected in word frequency counts... The third wave does not seem to rerpoduce, which calls for further investigation. One hypothesis could be that, like with the COVID pandemic, at some point new waves of illness stop attracting public's attention. E.g. the 2021 covid waves were stronger than the 2020, but the news coverage was already waning. This coul be especially true for early 1919, when after the loss of the war and the 1918 revolution grippe deaths were not a news topic anymore. -->"
   ]
  }
 ],
 "metadata": {
  "celltoolbar": "Tags",
  "kernelspec": {
   "display_name": "Python 3 (ipykernel)",
   "language": "python",
   "name": "python3"
  },
  "language_info": {
   "codemirror_mode": {
    "name": "ipython",
    "version": 3
   },
   "file_extension": ".py",
   "mimetype": "text/x-python",
   "name": "python",
   "nbconvert_exporter": "python",
   "pygments_lexer": "ipython3",
   "version": "3.11.3"
  }
 },
 "nbformat": 4,
 "nbformat_minor": 5
}
