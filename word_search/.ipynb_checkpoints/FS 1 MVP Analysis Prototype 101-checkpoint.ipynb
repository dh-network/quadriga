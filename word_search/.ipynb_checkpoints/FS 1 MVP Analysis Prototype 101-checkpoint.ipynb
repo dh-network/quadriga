{
 "cells": [
  {
   "cell_type": "markdown",
   "id": "16dc89c3",
   "metadata": {},
   "source": [
    "# Analysis"
   ]
  },
  {
   "cell_type": "markdown",
   "id": "0a0d0e29",
   "metadata": {},
   "source": [
    "\n",
    "\n",
    "Now we'll take the CONLL data and do some analysis. Like \n",
    "* plot the frequencies of some lemma\n",
    "* look at some lemmas contexts\n",
    "* analyze some lemmas collocations\n"
   ]
  },
  {
   "cell_type": "markdown",
   "id": "bf2a267e",
   "metadata": {},
   "source": [
    "## 0. Imports and data upload"
   ]
  },
  {
   "cell_type": "code",
   "execution_count": 1,
   "id": "14dc18f5",
   "metadata": {},
   "outputs": [],
   "source": [
    "import pandas as pd"
   ]
  },
  {
   "cell_type": "code",
   "execution_count": 2,
   "id": "5e1e86bf",
   "metadata": {},
   "outputs": [],
   "source": [
    "import re"
   ]
  },
  {
   "cell_type": "code",
   "execution_count": 3,
   "id": "5a8dd24b",
   "metadata": {},
   "outputs": [],
   "source": [
    "import os"
   ]
  },
  {
   "cell_type": "code",
   "execution_count": 4,
   "id": "4417616d",
   "metadata": {},
   "outputs": [],
   "source": [
    "conllfiles = (r\"../data/conll\")"
   ]
  },
  {
   "cell_type": "code",
   "execution_count": 84,
   "id": "645fa9f7",
   "metadata": {},
   "outputs": [],
   "source": [
    "corpus_annotations = {}\n",
    "for filename in os.listdir(conllfiles):\n",
    "    if '.conll' in filename:\n",
    "        path = os.path.join(conllfiles, filename)  \n",
    "        data = pd.read_csv(path) \n",
    "        corpus_annotations[filename] = data"
   ]
  },
  {
   "cell_type": "markdown",
   "id": "fde3da39",
   "metadata": {},
   "source": [
    "## 1. Search lemma and plot frequency"
   ]
  },
  {
   "cell_type": "code",
   "execution_count": 88,
   "id": "d824df6a",
   "metadata": {},
   "outputs": [],
   "source": [
    "class WordSearchEngine:\n",
    "    \n",
    "    def __init__(self, corpus_annotated):\n",
    "        self.prepare_index_dataframe_for_search(corpus_annotated)\n",
    "    \n",
    "    def prepare_index_dataframe_for_search(self, corpus_annotated):\n",
    "        for filename, annotated_text in corpus_annotated.items():\n",
    "            year, month, day = self.get_date_fname(filename)\n",
    "            annotated_text['month'] = month\n",
    "        self.full_df = pd.concat(corpus_annotated.values())\n",
    "        print(f'Searching in a corpus of {self.full_df.shape[0]} word occurences')\n",
    "        \n",
    "    def get_date_fname(self, filename):  ## REDO WITH METADATA\n",
    "        date_pattern = re.search(r'(19\\d\\d)(\\d\\d)(\\d\\d)-0-0-0-0', filename)\n",
    "        year = date_pattern.group(1)\n",
    "        month = f'{year}-{date_pattern.group(2)}'\n",
    "        day =  f'{month}-{date_pattern.group(3)}'\n",
    "        return year, month, day    \n",
    "        \n",
    "    def search_and_plot(self):\n",
    "        search_term = input('Insert a word to search: ')\n",
    "        if len(search_term) == 0:\n",
    "            search_term = 'Grippe'\n",
    "        result = self.full_df.query(f'Lemma==\"{search_term}\"')\n",
    "        result.groupby('month').count().Lemma.plot(title=f'frequency of {search_term}');\n",
    "        "
   ]
  },
  {
   "cell_type": "code",
   "execution_count": 89,
   "id": "4792eee9",
   "metadata": {},
   "outputs": [
    {
     "name": "stdout",
     "output_type": "stream",
     "text": [
      "Searching in a corpus of 3008370 word occurences\n"
     ]
    }
   ],
   "source": [
    "engine = WordSearchEngine(corpus_annotations)"
   ]
  },
  {
   "cell_type": "code",
   "execution_count": 90,
   "id": "c35a24d6",
   "metadata": {},
   "outputs": [
    {
     "name": "stdout",
     "output_type": "stream",
     "text": [
      "Insert a word to search: \n"
     ]
    },
    {
     "data": {
      "image/png": "[encoded data removed]",
      "text/plain": [
       "<Figure size 432x288 with 1 Axes>"
      ]
     },
     "metadata": {
      "needs_background": "light"
     },
     "output_type": "display_data"
    }
   ],
   "source": [
    "engine.search_and_plot()"
   ]
  },
  {
   "cell_type": "markdown",
   "id": "e9a2a08b",
   "metadata": {},
   "source": [
    "## 2. Exploring the contexts\n",
    "\n",
    "Let us look at the contexts in which the words appear\n",
    "\n",
    "\n",
    "### 2.1 KWIC"
   ]
  },
  {
   "cell_type": "code",
   "execution_count": 148,
   "id": "b9684f03",
   "metadata": {},
   "outputs": [],
   "source": [
    "class ContextViewer:\n",
    "    \n",
    "    def __init__(self, corpus_annotated):\n",
    "        self.full_df = self.prepare_index_dataframe_for_search(corpus_annotated)\n",
    "        self.full_df = self.full_df.reset_index()\n",
    "        #print(type(self.full_df))\n",
    "        \n",
    "    def prepare_index_dataframe_for_search(self, corpus_annotated):\n",
    "        for filename, annotated_text in corpus_annotated.items():\n",
    "            year, month, day = self.get_date_fname(filename)\n",
    "            annotated_text['month'] = month\n",
    "        return pd.concat(corpus_annotated.values())\n",
    "        #print(f'Searching in a corpus of {self.full_df.shape[0]} word occurences')\n",
    "        \n",
    "    def get_date_fname(self, filename): ## REDO WITH METADATA\n",
    "        date_pattern = re.search(r'(19\\d\\d)(\\d\\d)(\\d\\d)-0-0-0-0', filename)\n",
    "        year = date_pattern.group(1)\n",
    "        month = f'{year}-{date_pattern.group(2)}'\n",
    "        day =  f'{month}-{date_pattern.group(3)}'\n",
    "        return year, month, day    \n",
    "        \n",
    "    def get_context(self):\n",
    "        search_lemma = input('Insert a word to search: ')\n",
    "        if len(search_lemma) == 0:\n",
    "            search_lemma = 'Grippe'\n",
    "        indices = self.full_df.query(f'Lemma==\"{search_lemma}\"').index\n",
    "        #print(indices)\n",
    "        left_contexts = []\n",
    "        this_words = []\n",
    "        right_contexts = []\n",
    "        months = []\n",
    "        for indice in indices:\n",
    "            left = self.full_df.iloc[indice-10:indice-1, ][\"Token\"]\n",
    "            leftс = left[~left.str.contains('\\n')]\n",
    "            right = self.full_df.iloc[indice+1:indice+10, ][\"Token\"]\n",
    "            rightс = right[~right.str.contains('\\n')]\n",
    "            left_contexts.append(' '.join(leftс))\n",
    "            right_contexts.append(' '.join(rightс))\n",
    "            this_words.append(self.full_df.iloc[indice, ][\"Token\"])\n",
    "            months.append(self.full_df.iloc[indice, ][\"month\"])\n",
    "        newdf = pd.DataFrame()\n",
    "        newdf['left_context'] = left_contexts\n",
    "        newdf['word'] = this_words\n",
    "        newdf['right_context'] = right_contexts\n",
    "        newdf['month'] = months\n",
    "        return newdf #.sort_values(by='month')"
   ]
  },
  {
   "cell_type": "code",
   "execution_count": 149,
   "id": "6ec93d66",
   "metadata": {},
   "outputs": [],
   "source": [
    "kwic = ContextViewer(corpus_annotations)"
   ]
  },
  {
   "cell_type": "code",
   "execution_count": 150,
   "id": "82e2f1c7",
   "metadata": {},
   "outputs": [
    {
     "name": "stdout",
     "output_type": "stream",
     "text": [
      "Insert a word to search: krank\n"
     ]
    },
    {
     "data": {
      "text/html": [
       "<div>\n",
       "<style scoped>\n",
       "    .dataframe tbody tr th:only-of-type {\n",
       "        vertical-align: middle;\n",
       "    }\n",
       "\n",
       "    .dataframe tbody tr th {\n",
       "        vertical-align: top;\n",
       "    }\n",
       "\n",
       "    .dataframe thead th {\n",
       "        text-align: right;\n",
       "    }\n",
       "</style>\n",
       "<table border=\"1\" class=\"dataframe\">\n",
       "  <thead>\n",
       "    <tr style=\"text-align: right;\">\n",
       "      <th></th>\n",
       "      <th>left_context</th>\n",
       "      <th>word</th>\n",
       "      <th>right_context</th>\n",
       "      <th>month</th>\n",
       "    </tr>\n",
       "  </thead>\n",
       "  <tbody>\n",
       "    <tr>\n",
       "      <th>0</th>\n",
       "      <td>foumt die Meldung , Marſchall Io ffr e</td>\n",
       "      <td>krank</td>\n",
       "      <td>an Grippe darniederliegt . Sein Beſuch in England</td>\n",
       "      <td>1918-10</td>\n",
       "    </tr>\n",
       "    <tr>\n",
       "      <th>1</th>\n",
       "      <td>, jeßt anſcheinend ruhiger , „ er ſehnt</td>\n",
       "      <td>krank</td>\n",
       "      <td>nach Dir = E Zt ſo blaß und mager</td>\n",
       "      <td>1918-09</td>\n",
       "    </tr>\n",
       "    <tr>\n",
       "      <th>2</th>\n",
       "      <td>und dur &lt; die wahlloſe Bermiſchung geſupder “</td>\n",
       "      <td>kranker</td>\n",
       "      <td>Bevölkerungen von neuem alle zentralafrikaniſc...</td>\n",
       "      <td>1918-09</td>\n",
       "    </tr>\n",
       "    <tr>\n",
       "      <th>3</th>\n",
       "      <td>doch vor » kommen , daß ein Prinz</td>\n",
       "      <td>krank</td>\n",
       "      <td>iſt oder aus . anderen Grün « »</td>\n",
       "      <td>1918-01</td>\n",
       "    </tr>\n",
       "    <tr>\n",
       "      <th>4</th>\n",
       "      <td>. Und wenn ſte ihm empfehlen , „</td>\n",
       "      <td>kranken</td>\n",
       "      <td>Nerven zu ſchonen und fich aus dem öffentlihen</td>\n",
       "      <td>1918-12</td>\n",
       "    </tr>\n",
       "    <tr>\n",
       "      <th>5</th>\n",
       "      <td>Schiff auch die Frauen , Kinder und ſchwer- \"</td>\n",
       "      <td>kranken</td>\n",
       "      <td>Männer aus Deutſch-Oſtafrika heimbefördert wer...</td>\n",
       "      <td>1918-12</td>\n",
       "    </tr>\n",
       "    <tr>\n",
       "      <th>6</th>\n",
       "      <td>Ernährung der Säuolinge und Kleinkind . in geſ...</td>\n",
       "      <td>kranken</td>\n",
       "      <td>Tagen , die verantwortungsolle Tätigkeit der K...</td>\n",
       "      <td>1918-06</td>\n",
       "    </tr>\n",
       "    <tr>\n",
       "      <th>7</th>\n",
       "      <td>der Preſſe . 5 4 „ Nachdem Jeſſen</td>\n",
       "      <td>kranken</td>\n",
       "      <td>Hermann Fveudenberg gebacht hatte , wandte er ...</td>\n",
       "      <td>1918-08</td>\n",
       "    </tr>\n",
       "    <tr>\n",
       "      <th>8</th>\n",
       "      <td>ihn nach Hauſe führen zu laſſen , da er</td>\n",
       "      <td>krank</td>\n",
       "      <td>ſei . Aber Freddy lehnte haſtig ab und</td>\n",
       "      <td>1918-11</td>\n",
       "    </tr>\n",
       "    <tr>\n",
       "      <th>9</th>\n",
       "      <td>. Neid EN « 635 , 4</td>\n",
       "      <td>krank</td>\n",
       "      <td>langſam fein Glas aus , räuſperte ſich Teicht</td>\n",
       "      <td>1918-07</td>\n",
       "    </tr>\n",
       "    <tr>\n",
       "      <th>10</th>\n",
       "      <td>worden , Sie bezwet , alten , ſchwachen</td>\n",
       "      <td>kranken</td>\n",
       "      <td>Leuten , ferner ſolchen Berſonen , die durch</td>\n",
       "      <td>1918-04</td>\n",
       "    </tr>\n",
       "    <tr>\n",
       "      <th>11</th>\n",
       "      <td>+ Zn Hamburg , wo er ſeit längerer</td>\n",
       "      <td>krank</td>\n",
       "      <td>dorniederlag , if am Sonntag der Direkior des</td>\n",
       "      <td>1918-02</td>\n",
       "    </tr>\n",
       "  </tbody>\n",
       "</table>\n",
       "</div>"
      ],
      "text/plain": [
       "                                         left_context     word  \\\n",
       "0              foumt die Meldung , Marſchall Io ffr e    krank   \n",
       "1             , jeßt anſcheinend ruhiger , „ er ſehnt    krank   \n",
       "2       und dur < die wahlloſe Bermiſchung geſupder “  kranker   \n",
       "3                   doch vor » kommen , daß ein Prinz    krank   \n",
       "4                    . Und wenn ſte ihm empfehlen , „  kranken   \n",
       "5       Schiff auch die Frauen , Kinder und ſchwer- \"  kranken   \n",
       "6   Ernährung der Säuolinge und Kleinkind . in geſ...  kranken   \n",
       "7                   der Preſſe . 5 4 „ Nachdem Jeſſen  kranken   \n",
       "8             ihn nach Hauſe führen zu laſſen , da er    krank   \n",
       "9                                 . Neid EN « 635 , 4    krank   \n",
       "10            worden , Sie bezwet , alten , ſchwachen  kranken   \n",
       "11                 + Zn Hamburg , wo er ſeit längerer    krank   \n",
       "\n",
       "                                        right_context    month  \n",
       "0   an Grippe darniederliegt . Sein Beſuch in England  1918-10  \n",
       "1                   nach Dir = E Zt ſo blaß und mager  1918-09  \n",
       "2   Bevölkerungen von neuem alle zentralafrikaniſc...  1918-09  \n",
       "3                     iſt oder aus . anderen Grün « »  1918-01  \n",
       "4      Nerven zu ſchonen und fich aus dem öffentlihen  1918-12  \n",
       "5   Männer aus Deutſch-Oſtafrika heimbefördert wer...  1918-12  \n",
       "6   Tagen , die verantwortungsolle Tätigkeit der K...  1918-06  \n",
       "7   Hermann Fveudenberg gebacht hatte , wandte er ...  1918-08  \n",
       "8              ſei . Aber Freddy lehnte haſtig ab und  1918-11  \n",
       "9       langſam fein Glas aus , räuſperte ſich Teicht  1918-07  \n",
       "10       Leuten , ferner ſolchen Berſonen , die durch  1918-04  \n",
       "11      dorniederlag , if am Sonntag der Direkior des  1918-02  "
      ]
     },
     "execution_count": 150,
     "metadata": {},
     "output_type": "execute_result"
    }
   ],
   "source": [
    "kwic.get_context()"
   ]
  },
  {
   "cell_type": "markdown",
   "id": "8a7441e7",
   "metadata": {},
   "source": [
    "### 2.2 Collocations"
   ]
  },
  {
   "cell_type": "code",
   "execution_count": null,
   "id": "60370142",
   "metadata": {},
   "outputs": [],
   "source": []
  }
 ],
 "metadata": {
  "kernelspec": {
   "display_name": "Python 3 (ipykernel)",
   "language": "python",
   "name": "python3"
  },
  "language_info": {
   "codemirror_mode": {
    "name": "ipython",
    "version": 3
   },
   "file_extension": ".py",
   "mimetype": "text/x-python",
   "name": "python",
   "nbconvert_exporter": "python",
   "pygments_lexer": "ipython3",
   "version": "3.9.13"
  }
 },
 "nbformat": 4,
 "nbformat_minor": 5
}
