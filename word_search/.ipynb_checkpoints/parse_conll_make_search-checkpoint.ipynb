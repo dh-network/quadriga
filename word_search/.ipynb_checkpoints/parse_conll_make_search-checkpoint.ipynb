{
 "cells": [
  {
   "cell_type": "markdown",
   "id": "f1adb971",
   "metadata": {},
   "source": [
    "## Imports"
   ]
  },
  {
   "cell_type": "code",
   "execution_count": null,
   "id": "b679a323",
   "metadata": {},
   "outputs": [],
   "source": [
    "import pandas as pd"
   ]
  },
  {
   "cell_type": "code",
   "execution_count": null,
   "id": "659357bb",
   "metadata": {},
   "outputs": [],
   "source": [
    "from conllu import parse as connllu_parser"
   ]
  },
  {
   "cell_type": "code",
   "execution_count": null,
   "id": "0ab41b0e",
   "metadata": {},
   "outputs": [],
   "source": [
    "import os"
   ]
  },
  {
   "cell_type": "code",
   "execution_count": null,
   "id": "d9521e8e",
   "metadata": {},
   "outputs": [],
   "source": [
    "import re"
   ]
  },
  {
   "cell_type": "markdown",
   "id": "eb5dc669",
   "metadata": {},
   "source": [
    "### Early prototyping"
   ]
  },
  {
   "cell_type": "code",
   "execution_count": null,
   "id": "17adf3dc",
   "metadata": {},
   "outputs": [],
   "source": [
    "test_conllu_data = \"\"\"\n",
    "# text = Er arbeitet fürs FBI (deutsch etwa: „Bundesamt für Ermittlung“).\n",
    "# text_en = He works for the FBI (German approx: “Bundesamt für Ermittlung”).\n",
    "1     Er           er           PRON    …   _\n",
    "2     arbeitet     arbeiten     VERB    …   _\n",
    "3-4   fürs         _            _       …   _\n",
    "3     für          für          ADP     …   _\n",
    "4     das          der          DET     …   _\n",
    "5     FBI          FBI          PROPN   …   _\n",
    "6     (            (            PUNCT   …   SpaceAfter=No\n",
    "7     deutsch      deutsch      ADV     …   _\n",
    "8     etwa         etwa         ADV     …   SpaceAfter=No\n",
    "9     :            :            PUNCT   …   _\n",
    "10    „            „            PUNCT   …   SpaceAfter=No\n",
    "11    Bundesamt    Bundesamt    NOUN    …   _\n",
    "12    für          für          ADP     …   _\n",
    "13    Ermittlung   Ermittlung   NOUN    …   SpaceAfter=No\n",
    "14    “            “            PUNCT   …   SpaceAfter=No\n",
    "15    )            )            PUNCT   …   SpaceAfter=No\n",
    "16    .            .            PUNCT   …   _\n",
    "\"\"\""
   ]
  },
  {
   "cell_type": "code",
   "execution_count": null,
   "id": "7fda08db",
   "metadata": {},
   "outputs": [],
   "source": [
    "with open('../data/conll/SNP2719372X-19180101-0-0-0-0.conll') as openconllu:\n",
    "    test_conllu_data = openconllu.read()"
   ]
  },
  {
   "cell_type": "code",
   "execution_count": null,
   "id": "766bb27a",
   "metadata": {},
   "outputs": [],
   "source": [
    "parsed = connllu_parser(test_conllu_data) ## FIX THIS!"
   ]
  },
  {
   "cell_type": "code",
   "execution_count": null,
   "id": "e0978ae0",
   "metadata": {},
   "outputs": [],
   "source": [
    "sentence = parsed[0]"
   ]
  },
  {
   "cell_type": "code",
   "execution_count": null,
   "id": "cf336b42",
   "metadata": {},
   "outputs": [],
   "source": [
    "for i in parsed:\n",
    "    print(i)\n",
    "    print(i[0])"
   ]
  },
  {
   "cell_type": "code",
   "execution_count": null,
   "id": "fa93a2cb",
   "metadata": {},
   "outputs": [],
   "source": [
    "sentence[0].keys()"
   ]
  },
  {
   "cell_type": "code",
   "execution_count": null,
   "id": "69eb46de",
   "metadata": {},
   "outputs": [],
   "source": [
    "def update_df_from_collu(conll_string, df, filename):\n",
    "    parsed_sentences = connllu_parser(conll_string)\n",
    "    year, month, day = get_date(filename) \n",
    "    for sentence in parsed_sentences:\n",
    "        for word in sentence:\n",
    "            word['year'] = year\n",
    "            word['month'] = month\n",
    "            word['day'] = day\n",
    "            #print(word.keys())\n",
    "            df.loc[len(df)] = word"
   ]
  },
  {
   "cell_type": "code",
   "execution_count": null,
   "id": "8a1b8881",
   "metadata": {},
   "outputs": [],
   "source": [
    "input_folder = '../data/conll' #'dummydata'"
   ]
  },
  {
   "cell_type": "code",
   "execution_count": null,
   "id": "fc9585e7",
   "metadata": {},
   "outputs": [],
   "source": [
    "def get_date_real(filename):\n",
    "    date_pattern = re.search(r'(19\\d\\d)(\\d\\d)(\\d\\d)-0-0-0-0', filename)\n",
    "    \n",
    "    year = date_pattern.group(1)\n",
    "    month = f'{year}-{date_pattern.group(2)}'\n",
    "    day =  f'{month}-{date_pattern.group(3)}'\n",
    "    #day = filename[8:10]\n",
    "    return year, month, day"
   ]
  },
  {
   "cell_type": "code",
   "execution_count": null,
   "id": "ffe354fc",
   "metadata": {},
   "outputs": [],
   "source": [
    "def get_date_dummy(filename):\n",
    "    year = filename[:4]\n",
    "    month = filename[:7]\n",
    "    day = filename[:10]\n",
    "    #day = filename[8:10]\n",
    "    return year, month, day"
   ]
  },
  {
   "cell_type": "code",
   "execution_count": null,
   "id": "bb2237e7",
   "metadata": {},
   "outputs": [],
   "source": [
    "get_date_real('SNP2719372X-19180101-0-0-0-0.conll')"
   ]
  },
  {
   "cell_type": "code",
   "execution_count": null,
   "id": "9a1aba89",
   "metadata": {},
   "outputs": [],
   "source": [
    "df = pd.DataFrame(columns = ['id', 'form', 'lemma', \n",
    "                             'upos', 'xpos', 'feats',\n",
    "                            'year', 'month', 'day'])\n",
    "#df.columns = ['id', 'form', 'lemma', 'upos', 'xpos', 'feats']\n",
    "for filename in os.listdir(input_folder):\n",
    "    if '.conllu' in filename:\n",
    "        path = os.path.join(input_folder, filename)\n",
    "        with open(path) as openconllu:\n",
    "            conllu_string = openconllu.read()\n",
    "        update_df_from_collu(conllu_string, df, filename) #conll_df(path, file_index=False)"
   ]
  },
  {
   "cell_type": "code",
   "execution_count": null,
   "id": "2b8490ba",
   "metadata": {},
   "outputs": [],
   "source": [
    "df"
   ]
  },
  {
   "cell_type": "code",
   "execution_count": null,
   "id": "ea869089",
   "metadata": {},
   "outputs": [],
   "source": [
    "search_term = input('insert search word:')"
   ]
  },
  {
   "cell_type": "code",
   "execution_count": null,
   "id": "049173be",
   "metadata": {},
   "outputs": [],
   "source": [
    "df.query(f'lemma==\"{search_term}\"')"
   ]
  },
  {
   "cell_type": "code",
   "execution_count": null,
   "id": "dd8a1e99",
   "metadata": {},
   "outputs": [],
   "source": [
    "result = df.query(f'lemma==\"{search_term}\"')"
   ]
  },
  {
   "cell_type": "code",
   "execution_count": null,
   "id": "068f40b7",
   "metadata": {},
   "outputs": [],
   "source": [
    "result.groupby('month').count()"
   ]
  },
  {
   "cell_type": "code",
   "execution_count": null,
   "id": "82d14453",
   "metadata": {},
   "outputs": [],
   "source": [
    "result.groupby('month').count().lemma.plot();"
   ]
  },
  {
   "cell_type": "markdown",
   "id": "e857a1fc",
   "metadata": {},
   "source": [
    "Seems to work"
   ]
  },
  {
   "cell_type": "markdown",
   "id": "7c412b52",
   "metadata": {},
   "source": [
    "### Making it more production-ready"
   ]
  },
  {
   "cell_type": "code",
   "execution_count": null,
   "id": "654faece",
   "metadata": {},
   "outputs": [],
   "source": [
    "class CorpusSearch():\n",
    "    def __init__:\n",
    "        "
   ]
  }
 ],
 "metadata": {
  "kernelspec": {
   "display_name": "Python 3 (ipykernel)",
   "language": "python",
   "name": "python3"
  },
  "language_info": {
   "codemirror_mode": {
    "name": "ipython",
    "version": 3
   },
   "file_extension": ".py",
   "mimetype": "text/x-python",
   "name": "python",
   "nbconvert_exporter": "python",
   "pygments_lexer": "ipython3",
   "version": "3.9.13"
  }
 },
 "nbformat": 4,
 "nbformat_minor": 5
}
